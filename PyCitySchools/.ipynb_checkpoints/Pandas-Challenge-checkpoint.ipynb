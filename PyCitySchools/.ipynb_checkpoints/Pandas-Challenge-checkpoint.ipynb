{
 "cells": [
  {
   "cell_type": "code",
   "execution_count": 1182,
   "id": "ba4e54f4-d231-404d-9691-8aab445670bf",
   "metadata": {},
   "outputs": [
    {
     "data": {
      "text/html": [
       "<div>\n",
       "<style scoped>\n",
       "    .dataframe tbody tr th:only-of-type {\n",
       "        vertical-align: middle;\n",
       "    }\n",
       "\n",
       "    .dataframe tbody tr th {\n",
       "        vertical-align: top;\n",
       "    }\n",
       "\n",
       "    .dataframe thead th {\n",
       "        text-align: right;\n",
       "    }\n",
       "</style>\n",
       "<table border=\"1\" class=\"dataframe\">\n",
       "  <thead>\n",
       "    <tr style=\"text-align: right;\">\n",
       "      <th></th>\n",
       "      <th>Student ID</th>\n",
       "      <th>student_name</th>\n",
       "      <th>gender</th>\n",
       "      <th>grade</th>\n",
       "      <th>school_name</th>\n",
       "      <th>reading_score</th>\n",
       "      <th>math_score</th>\n",
       "      <th>School ID</th>\n",
       "      <th>type</th>\n",
       "      <th>size</th>\n",
       "      <th>budget</th>\n",
       "    </tr>\n",
       "  </thead>\n",
       "  <tbody>\n",
       "    <tr>\n",
       "      <th>0</th>\n",
       "      <td>0</td>\n",
       "      <td>Paul Bradley</td>\n",
       "      <td>M</td>\n",
       "      <td>9th</td>\n",
       "      <td>Huang High School</td>\n",
       "      <td>66</td>\n",
       "      <td>79</td>\n",
       "      <td>0</td>\n",
       "      <td>District</td>\n",
       "      <td>2917</td>\n",
       "      <td>1910635</td>\n",
       "    </tr>\n",
       "    <tr>\n",
       "      <th>1</th>\n",
       "      <td>1</td>\n",
       "      <td>Victor Smith</td>\n",
       "      <td>M</td>\n",
       "      <td>12th</td>\n",
       "      <td>Huang High School</td>\n",
       "      <td>94</td>\n",
       "      <td>61</td>\n",
       "      <td>0</td>\n",
       "      <td>District</td>\n",
       "      <td>2917</td>\n",
       "      <td>1910635</td>\n",
       "    </tr>\n",
       "    <tr>\n",
       "      <th>2</th>\n",
       "      <td>2</td>\n",
       "      <td>Kevin Rodriguez</td>\n",
       "      <td>M</td>\n",
       "      <td>12th</td>\n",
       "      <td>Huang High School</td>\n",
       "      <td>90</td>\n",
       "      <td>60</td>\n",
       "      <td>0</td>\n",
       "      <td>District</td>\n",
       "      <td>2917</td>\n",
       "      <td>1910635</td>\n",
       "    </tr>\n",
       "    <tr>\n",
       "      <th>3</th>\n",
       "      <td>3</td>\n",
       "      <td>Dr. Richard Scott</td>\n",
       "      <td>M</td>\n",
       "      <td>12th</td>\n",
       "      <td>Huang High School</td>\n",
       "      <td>67</td>\n",
       "      <td>58</td>\n",
       "      <td>0</td>\n",
       "      <td>District</td>\n",
       "      <td>2917</td>\n",
       "      <td>1910635</td>\n",
       "    </tr>\n",
       "    <tr>\n",
       "      <th>4</th>\n",
       "      <td>4</td>\n",
       "      <td>Bonnie Ray</td>\n",
       "      <td>F</td>\n",
       "      <td>9th</td>\n",
       "      <td>Huang High School</td>\n",
       "      <td>97</td>\n",
       "      <td>84</td>\n",
       "      <td>0</td>\n",
       "      <td>District</td>\n",
       "      <td>2917</td>\n",
       "      <td>1910635</td>\n",
       "    </tr>\n",
       "  </tbody>\n",
       "</table>\n",
       "</div>"
      ],
      "text/plain": [
       "   Student ID       student_name gender grade        school_name  \\\n",
       "0           0       Paul Bradley      M   9th  Huang High School   \n",
       "1           1       Victor Smith      M  12th  Huang High School   \n",
       "2           2    Kevin Rodriguez      M  12th  Huang High School   \n",
       "3           3  Dr. Richard Scott      M  12th  Huang High School   \n",
       "4           4         Bonnie Ray      F   9th  Huang High School   \n",
       "\n",
       "   reading_score  math_score  School ID      type  size   budget  \n",
       "0             66          79          0  District  2917  1910635  \n",
       "1             94          61          0  District  2917  1910635  \n",
       "2             90          60          0  District  2917  1910635  \n",
       "3             67          58          0  District  2917  1910635  \n",
       "4             97          84          0  District  2917  1910635  "
      ]
     },
     "execution_count": 1182,
     "metadata": {},
     "output_type": "execute_result"
    }
   ],
   "source": [
    "import pandas as pd\n",
    "from pathlib import Path\n",
    "\n",
    "school_data_to_load = Path(\"resources/schools_complete.csv\")\n",
    "student_data_to_load = Path(\"resources/students_complete.csv\")\n",
    "\n",
    "school_data = pd.read_csv(school_data_to_load)\n",
    "student_data = pd.read_csv(student_data_to_load)\n",
    "\n",
    "school_data_complete = pd.merge(student_data, school_data, how=\"left\", on=[\"school_name\", \"school_name\"])\n",
    "school_data_complete.head()"
   ]
  },
  {
   "cell_type": "code",
   "execution_count": 1183,
   "id": "1abfcdab-415b-4a2d-9e7d-1adff4741c93",
   "metadata": {},
   "outputs": [
    {
     "data": {
      "text/plain": [
       "array(['Huang High School', 'Figueroa High School', 'Shelton High School',\n",
       "       'Hernandez High School', 'Griffin High School',\n",
       "       'Wilson High School', 'Cabrera High School', 'Bailey High School',\n",
       "       'Holden High School', 'Pena High School', 'Wright High School',\n",
       "       'Rodriguez High School', 'Johnson High School', 'Ford High School',\n",
       "       'Thomas High School'], dtype=object)"
      ]
     },
     "execution_count": 1183,
     "metadata": {},
     "output_type": "execute_result"
    }
   ],
   "source": [
    "school_count=len(school_data_complete[\"school_name\"].unique())\n",
    "school_names=school_data_complete[\"school_name\"].unique()\n",
    "school_count\n",
    "school_names"
   ]
  },
  {
   "cell_type": "code",
   "execution_count": 1184,
   "id": "49a965db-d8f1-4a66-8f82-fa04d81ac3b6",
   "metadata": {},
   "outputs": [
    {
     "data": {
      "text/plain": [
       "32715"
      ]
     },
     "execution_count": 1184,
     "metadata": {},
     "output_type": "execute_result"
    }
   ],
   "source": [
    "student_count = len(school_data_complete[\"student_name\"].value_counts())\n",
    "student_count  \n"
   ]
  },
  {
   "cell_type": "code",
   "execution_count": 1268,
   "id": "8132461d-328e-4710-a622-4be3ecf5bd83",
   "metadata": {},
   "outputs": [
    {
     "data": {
      "text/plain": [
       "array([58.40241479, 57.60082531, 32.29711142, 92.3741403 , 28.04523919,\n",
       "       40.33544246, 33.05382852, 95.51973101,  7.58327984, 17.90793214,\n",
       "       32.07702889, 77.86529115, 94.59422283, 53.91765245, 31.88537368])"
      ]
     },
     "execution_count": 1268,
     "metadata": {},
     "output_type": "execute_result"
    }
   ],
   "source": [
    "total_budget_values = school_data_complete[\"budget\"].unique()\n",
    "total_budget=total_budget_values.sum()\n",
    "total_budget"
   ]
  },
  {
   "cell_type": "code",
   "execution_count": 1186,
   "id": "2ee66054-3524-4a8a-bd58-1df4eb66904e",
   "metadata": {},
   "outputs": [
    {
     "data": {
      "text/plain": [
       "78.98537145774827"
      ]
     },
     "execution_count": 1186,
     "metadata": {},
     "output_type": "execute_result"
    }
   ],
   "source": [
    "average_math_score = school_data_complete[\"math_score\"].mean()\n",
    "average_math_score\n"
   ]
  },
  {
   "cell_type": "code",
   "execution_count": 1187,
   "id": "5ee714d3-daeb-431c-9a52-87ec502fcfd8",
   "metadata": {},
   "outputs": [
    {
     "data": {
      "text/plain": [
       "81.87784018381414"
      ]
     },
     "execution_count": 1187,
     "metadata": {},
     "output_type": "execute_result"
    }
   ],
   "source": [
    "average_reading_score =school_data_complete[\"reading_score\"].mean()\n",
    "average_reading_score\n"
   ]
  },
  {
   "cell_type": "code",
   "execution_count": 1188,
   "id": "ebc79996-58c6-41e3-9977-1cf2e0f017cf",
   "metadata": {},
   "outputs": [
    {
     "data": {
      "text/plain": [
       "89.77533241632278"
      ]
     },
     "execution_count": 1188,
     "metadata": {},
     "output_type": "execute_result"
    }
   ],
   "source": [
    "passing_math_count = school_data_complete[(school_data_complete[\"math_score\"] >= 70)].count()[\"student_name\"]\n",
    "passing_math_percentage = passing_math_count / float(student_count) * 100\n",
    "passing_math_percentage"
   ]
  },
  {
   "cell_type": "code",
   "execution_count": 1189,
   "id": "081b6824-9a35-4338-9a18-594f29f3a6d9",
   "metadata": {},
   "outputs": [
    {
     "data": {
      "text/plain": [
       "102.73574812777014"
      ]
     },
     "execution_count": 1189,
     "metadata": {},
     "output_type": "execute_result"
    }
   ],
   "source": [
    "passing_reading_count = school_data_complete[(school_data_complete[\"reading_score\"] >= 70)].count()[\"student_name\"]\n",
    "passing_reading_percentage = passing_reading_count / float(student_count) * 100\n",
    "passing_reading_percentage"
   ]
  },
  {
   "cell_type": "code",
   "execution_count": 1190,
   "id": "7c3363b2-72b0-409e-876a-865e2f15c534",
   "metadata": {},
   "outputs": [
    {
     "data": {
      "text/plain": [
       "78.031484028733"
      ]
     },
     "execution_count": 1190,
     "metadata": {},
     "output_type": "execute_result"
    }
   ],
   "source": [
    "passing_math_reading_count = school_data_complete[\n",
    "    (school_data_complete[\"math_score\"] >= 70) & (school_data_complete[\"reading_score\"] >= 70)\n",
    "].count()[\"student_name\"]\n",
    "overall_passing_rate = passing_math_reading_count /  float(student_count) * 100\n",
    "overall_passing_rate"
   ]
  },
  {
   "cell_type": "code",
   "execution_count": 1191,
   "id": "6232d05c-16b6-4e0b-99aa-6e00a6ba1d05",
   "metadata": {},
   "outputs": [
    {
     "data": {
      "text/html": [
       "<div>\n",
       "<style scoped>\n",
       "    .dataframe tbody tr th:only-of-type {\n",
       "        vertical-align: middle;\n",
       "    }\n",
       "\n",
       "    .dataframe tbody tr th {\n",
       "        vertical-align: top;\n",
       "    }\n",
       "\n",
       "    .dataframe thead th {\n",
       "        text-align: right;\n",
       "    }\n",
       "</style>\n",
       "<table border=\"1\" class=\"dataframe\">\n",
       "  <thead>\n",
       "    <tr style=\"text-align: right;\">\n",
       "      <th></th>\n",
       "      <th>Total Number of Unique Schools</th>\n",
       "      <th>Total Students</th>\n",
       "      <th>Total Budget</th>\n",
       "      <th>Average Math Score</th>\n",
       "      <th>Average Reading Score</th>\n",
       "      <th>% Passing Math</th>\n",
       "      <th>% Passing Reading</th>\n",
       "      <th>% Overall Passing</th>\n",
       "    </tr>\n",
       "  </thead>\n",
       "  <tbody>\n",
       "    <tr>\n",
       "      <th>0</th>\n",
       "      <td>15</td>\n",
       "      <td>32,715</td>\n",
       "      <td>$24,649,428.00</td>\n",
       "      <td>78.985371</td>\n",
       "      <td>81.87784</td>\n",
       "      <td>89.775332</td>\n",
       "      <td>102.735748</td>\n",
       "      <td>78.031484</td>\n",
       "    </tr>\n",
       "  </tbody>\n",
       "</table>\n",
       "</div>"
      ],
      "text/plain": [
       "   Total Number of Unique Schools Total Students    Total Budget  \\\n",
       "0                              15         32,715  $24,649,428.00   \n",
       "\n",
       "   Average Math Score  Average Reading Score  % Passing Math  \\\n",
       "0           78.985371               81.87784       89.775332   \n",
       "\n",
       "   % Passing Reading  % Overall Passing  \n",
       "0         102.735748          78.031484  "
      ]
     },
     "execution_count": 1191,
     "metadata": {},
     "output_type": "execute_result"
    }
   ],
   "source": [
    "district_summary = pd.DataFrame({\"Total Number of Unique Schools\": [school_count],\n",
    "                                \"Total Students\": student_count,\n",
    "                                \"Total Budget\": total_budget,\n",
    "                                \"Average Math Score\": average_math_score,\n",
    "                                \"Average Reading Score\": average_reading_score,\n",
    "                                \"% Passing Math\": passing_math_percentage,\n",
    "                                \"% Passing Reading\": passing_reading_percentage,\n",
    "                                \"% Overall Passing\": overall_passing_rate })\n",
    "district_summary[\"Total Students\"] = district_summary[\"Total Students\"].map(\"{:,}\".format)\n",
    "district_summary[\"Total Budget\"] = district_summary[\"Total Budget\"].map(\"${:,.2f}\".format)\n",
    "district_summary"
   ]
  },
  {
   "cell_type": "code",
   "execution_count": 1192,
   "id": "9286fc60-661f-49d1-93eb-845b04338729",
   "metadata": {},
   "outputs": [
    {
     "data": {
      "text/html": [
       "<div>\n",
       "<style scoped>\n",
       "    .dataframe tbody tr th:only-of-type {\n",
       "        vertical-align: middle;\n",
       "    }\n",
       "\n",
       "    .dataframe tbody tr th {\n",
       "        vertical-align: top;\n",
       "    }\n",
       "\n",
       "    .dataframe thead th {\n",
       "        text-align: right;\n",
       "    }\n",
       "</style>\n",
       "<table border=\"1\" class=\"dataframe\">\n",
       "  <thead>\n",
       "    <tr style=\"text-align: right;\">\n",
       "      <th></th>\n",
       "      <th>school_types</th>\n",
       "    </tr>\n",
       "    <tr>\n",
       "      <th>school_name</th>\n",
       "      <th></th>\n",
       "    </tr>\n",
       "  </thead>\n",
       "  <tbody>\n",
       "    <tr>\n",
       "      <th>Huang High School</th>\n",
       "      <td>District</td>\n",
       "    </tr>\n",
       "    <tr>\n",
       "      <th>Figueroa High School</th>\n",
       "      <td>District</td>\n",
       "    </tr>\n",
       "    <tr>\n",
       "      <th>Shelton High School</th>\n",
       "      <td>Charter</td>\n",
       "    </tr>\n",
       "    <tr>\n",
       "      <th>Hernandez High School</th>\n",
       "      <td>District</td>\n",
       "    </tr>\n",
       "    <tr>\n",
       "      <th>Griffin High School</th>\n",
       "      <td>Charter</td>\n",
       "    </tr>\n",
       "    <tr>\n",
       "      <th>Wilson High School</th>\n",
       "      <td>Charter</td>\n",
       "    </tr>\n",
       "    <tr>\n",
       "      <th>Cabrera High School</th>\n",
       "      <td>Charter</td>\n",
       "    </tr>\n",
       "    <tr>\n",
       "      <th>Bailey High School</th>\n",
       "      <td>District</td>\n",
       "    </tr>\n",
       "    <tr>\n",
       "      <th>Holden High School</th>\n",
       "      <td>Charter</td>\n",
       "    </tr>\n",
       "    <tr>\n",
       "      <th>Pena High School</th>\n",
       "      <td>Charter</td>\n",
       "    </tr>\n",
       "    <tr>\n",
       "      <th>Wright High School</th>\n",
       "      <td>Charter</td>\n",
       "    </tr>\n",
       "    <tr>\n",
       "      <th>Rodriguez High School</th>\n",
       "      <td>District</td>\n",
       "    </tr>\n",
       "    <tr>\n",
       "      <th>Johnson High School</th>\n",
       "      <td>District</td>\n",
       "    </tr>\n",
       "    <tr>\n",
       "      <th>Ford High School</th>\n",
       "      <td>District</td>\n",
       "    </tr>\n",
       "    <tr>\n",
       "      <th>Thomas High School</th>\n",
       "      <td>Charter</td>\n",
       "    </tr>\n",
       "  </tbody>\n",
       "</table>\n",
       "</div>"
      ],
      "text/plain": [
       "                      school_types\n",
       "school_name                       \n",
       "Huang High School         District\n",
       "Figueroa High School      District\n",
       "Shelton High School        Charter\n",
       "Hernandez High School     District\n",
       "Griffin High School        Charter\n",
       "Wilson High School         Charter\n",
       "Cabrera High School        Charter\n",
       "Bailey High School        District\n",
       "Holden High School         Charter\n",
       "Pena High School           Charter\n",
       "Wright High School         Charter\n",
       "Rodriguez High School     District\n",
       "Johnson High School       District\n",
       "Ford High School          District\n",
       "Thomas High School         Charter"
      ]
     },
     "execution_count": 1192,
     "metadata": {},
     "output_type": "execute_result"
    }
   ],
   "source": [
    "school_types = school_data.set_index([\"school_name\"])[\"type\"]\n",
    "\n",
    "school_types = school_types.to_frame(\"school_types\")\n",
    "school_types"
   ]
  },
  {
   "cell_type": "code",
   "execution_count": 1193,
   "id": "d16c4589-b180-4715-8799-832cce779bd1",
   "metadata": {},
   "outputs": [],
   "source": [
    "per_school_counts = school_data_complete[\"school_name\"].value_counts()\n",
    "per_school_counts=per_school_counts.to_frame(\"Total Students\")"
   ]
  },
  {
   "cell_type": "code",
   "execution_count": 1194,
   "id": "df33e25e-1040-4b8d-9d08-15bbe14bc847",
   "metadata": {},
   "outputs": [
    {
     "data": {
      "text/html": [
       "<div>\n",
       "<style scoped>\n",
       "    .dataframe tbody tr th:only-of-type {\n",
       "        vertical-align: middle;\n",
       "    }\n",
       "\n",
       "    .dataframe tbody tr th {\n",
       "        vertical-align: top;\n",
       "    }\n",
       "\n",
       "    .dataframe thead th {\n",
       "        text-align: right;\n",
       "    }\n",
       "</style>\n",
       "<table border=\"1\" class=\"dataframe\">\n",
       "  <thead>\n",
       "    <tr style=\"text-align: right;\">\n",
       "      <th></th>\n",
       "      <th>Total School Budget</th>\n",
       "    </tr>\n",
       "    <tr>\n",
       "      <th>school_name</th>\n",
       "      <th></th>\n",
       "    </tr>\n",
       "  </thead>\n",
       "  <tbody>\n",
       "    <tr>\n",
       "      <th>Huang High School</th>\n",
       "      <td>1910635</td>\n",
       "    </tr>\n",
       "    <tr>\n",
       "      <th>Figueroa High School</th>\n",
       "      <td>1884411</td>\n",
       "    </tr>\n",
       "    <tr>\n",
       "      <th>Shelton High School</th>\n",
       "      <td>1056600</td>\n",
       "    </tr>\n",
       "    <tr>\n",
       "      <th>Hernandez High School</th>\n",
       "      <td>3022020</td>\n",
       "    </tr>\n",
       "    <tr>\n",
       "      <th>Griffin High School</th>\n",
       "      <td>917500</td>\n",
       "    </tr>\n",
       "    <tr>\n",
       "      <th>Wilson High School</th>\n",
       "      <td>1319574</td>\n",
       "    </tr>\n",
       "    <tr>\n",
       "      <th>Cabrera High School</th>\n",
       "      <td>1081356</td>\n",
       "    </tr>\n",
       "    <tr>\n",
       "      <th>Bailey High School</th>\n",
       "      <td>3124928</td>\n",
       "    </tr>\n",
       "    <tr>\n",
       "      <th>Holden High School</th>\n",
       "      <td>248087</td>\n",
       "    </tr>\n",
       "    <tr>\n",
       "      <th>Pena High School</th>\n",
       "      <td>585858</td>\n",
       "    </tr>\n",
       "    <tr>\n",
       "      <th>Wright High School</th>\n",
       "      <td>1049400</td>\n",
       "    </tr>\n",
       "    <tr>\n",
       "      <th>Rodriguez High School</th>\n",
       "      <td>2547363</td>\n",
       "    </tr>\n",
       "    <tr>\n",
       "      <th>Johnson High School</th>\n",
       "      <td>3094650</td>\n",
       "    </tr>\n",
       "    <tr>\n",
       "      <th>Ford High School</th>\n",
       "      <td>1763916</td>\n",
       "    </tr>\n",
       "    <tr>\n",
       "      <th>Thomas High School</th>\n",
       "      <td>1043130</td>\n",
       "    </tr>\n",
       "  </tbody>\n",
       "</table>\n",
       "</div>"
      ],
      "text/plain": [
       "                       Total School Budget\n",
       "school_name                               \n",
       "Huang High School                  1910635\n",
       "Figueroa High School               1884411\n",
       "Shelton High School                1056600\n",
       "Hernandez High School              3022020\n",
       "Griffin High School                 917500\n",
       "Wilson High School                 1319574\n",
       "Cabrera High School                1081356\n",
       "Bailey High School                 3124928\n",
       "Holden High School                  248087\n",
       "Pena High School                    585858\n",
       "Wright High School                 1049400\n",
       "Rodriguez High School              2547363\n",
       "Johnson High School                3094650\n",
       "Ford High School                   1763916\n",
       "Thomas High School                 1043130"
      ]
     },
     "execution_count": 1194,
     "metadata": {},
     "output_type": "execute_result"
    }
   ],
   "source": [
    "per_school_budget = school_data.set_index([\"school_name\"])[\"budget\"]\n",
    "per_school_budget = per_school_budget.to_frame(\"Total School Budget\")\n",
    "per_school_budget "
   ]
  },
  {
   "cell_type": "code",
   "execution_count": 1262,
   "id": "b85b2e3a-5c4d-4066-a70c-2c374dcecd4d",
   "metadata": {},
   "outputs": [
    {
     "data": {
      "text/html": [
       "<div>\n",
       "<style scoped>\n",
       "    .dataframe tbody tr th:only-of-type {\n",
       "        vertical-align: middle;\n",
       "    }\n",
       "\n",
       "    .dataframe tbody tr th {\n",
       "        vertical-align: top;\n",
       "    }\n",
       "\n",
       "    .dataframe thead th {\n",
       "        text-align: right;\n",
       "    }\n",
       "</style>\n",
       "<table border=\"1\" class=\"dataframe\">\n",
       "  <thead>\n",
       "    <tr style=\"text-align: right;\">\n",
       "      <th></th>\n",
       "      <th>Total School Budget</th>\n",
       "    </tr>\n",
       "    <tr>\n",
       "      <th>school_name</th>\n",
       "      <th></th>\n",
       "    </tr>\n",
       "  </thead>\n",
       "  <tbody>\n",
       "    <tr>\n",
       "      <th>Huang High School</th>\n",
       "      <td>1910635</td>\n",
       "    </tr>\n",
       "    <tr>\n",
       "      <th>Figueroa High School</th>\n",
       "      <td>1884411</td>\n",
       "    </tr>\n",
       "    <tr>\n",
       "      <th>Shelton High School</th>\n",
       "      <td>1056600</td>\n",
       "    </tr>\n",
       "    <tr>\n",
       "      <th>Hernandez High School</th>\n",
       "      <td>3022020</td>\n",
       "    </tr>\n",
       "    <tr>\n",
       "      <th>Griffin High School</th>\n",
       "      <td>917500</td>\n",
       "    </tr>\n",
       "    <tr>\n",
       "      <th>Wilson High School</th>\n",
       "      <td>1319574</td>\n",
       "    </tr>\n",
       "    <tr>\n",
       "      <th>Cabrera High School</th>\n",
       "      <td>1081356</td>\n",
       "    </tr>\n",
       "    <tr>\n",
       "      <th>Bailey High School</th>\n",
       "      <td>3124928</td>\n",
       "    </tr>\n",
       "    <tr>\n",
       "      <th>Holden High School</th>\n",
       "      <td>248087</td>\n",
       "    </tr>\n",
       "    <tr>\n",
       "      <th>Pena High School</th>\n",
       "      <td>585858</td>\n",
       "    </tr>\n",
       "    <tr>\n",
       "      <th>Wright High School</th>\n",
       "      <td>1049400</td>\n",
       "    </tr>\n",
       "    <tr>\n",
       "      <th>Rodriguez High School</th>\n",
       "      <td>2547363</td>\n",
       "    </tr>\n",
       "    <tr>\n",
       "      <th>Johnson High School</th>\n",
       "      <td>3094650</td>\n",
       "    </tr>\n",
       "    <tr>\n",
       "      <th>Ford High School</th>\n",
       "      <td>1763916</td>\n",
       "    </tr>\n",
       "    <tr>\n",
       "      <th>Thomas High School</th>\n",
       "      <td>1043130</td>\n",
       "    </tr>\n",
       "  </tbody>\n",
       "</table>\n",
       "</div>"
      ],
      "text/plain": [
       "                       Total School Budget\n",
       "school_name                               \n",
       "Huang High School                  1910635\n",
       "Figueroa High School               1884411\n",
       "Shelton High School                1056600\n",
       "Hernandez High School              3022020\n",
       "Griffin High School                 917500\n",
       "Wilson High School                 1319574\n",
       "Cabrera High School                1081356\n",
       "Bailey High School                 3124928\n",
       "Holden High School                  248087\n",
       "Pena High School                    585858\n",
       "Wright High School                 1049400\n",
       "Rodriguez High School              2547363\n",
       "Johnson High School                3094650\n",
       "Ford High School                   1763916\n",
       "Thomas High School                 1043130"
      ]
     },
     "execution_count": 1262,
     "metadata": {},
     "output_type": "execute_result"
    }
   ],
   "source": [
    "\n",
    "per_school_budget"
   ]
  },
  {
   "cell_type": "code",
   "execution_count": 1265,
   "id": "460f9c27-9ca6-4f94-94ec-e092fa44b079",
   "metadata": {},
   "outputs": [],
   "source": [
    "\n",
    "school_count=school_data_complete[\"school_name\"].value_counts()\n"
   ]
  },
  {
   "cell_type": "code",
   "execution_count": null,
   "id": "7b2621f5-0d4b-4fcd-bea2-3679aab55ee1",
   "metadata": {},
   "outputs": [],
   "source": []
  },
  {
   "cell_type": "code",
   "execution_count": 1246,
   "id": "769c0ae1-5936-4527-8049-e5817f747c9e",
   "metadata": {
    "scrolled": true
   },
   "outputs": [
    {
     "data": {
      "text/html": [
       "<div>\n",
       "<style scoped>\n",
       "    .dataframe tbody tr th:only-of-type {\n",
       "        vertical-align: middle;\n",
       "    }\n",
       "\n",
       "    .dataframe tbody tr th {\n",
       "        vertical-align: top;\n",
       "    }\n",
       "\n",
       "    .dataframe thead th {\n",
       "        text-align: right;\n",
       "    }\n",
       "</style>\n",
       "<table border=\"1\" class=\"dataframe\">\n",
       "  <thead>\n",
       "    <tr style=\"text-align: right;\">\n",
       "      <th></th>\n",
       "      <th>Per School Capita</th>\n",
       "    </tr>\n",
       "    <tr>\n",
       "      <th>school_name</th>\n",
       "      <th></th>\n",
       "    </tr>\n",
       "  </thead>\n",
       "  <tbody>\n",
       "    <tr>\n",
       "      <th>Bailey High School</th>\n",
       "      <td>383.970056</td>\n",
       "    </tr>\n",
       "    <tr>\n",
       "      <th>Johnson High School</th>\n",
       "      <td>395.801512</td>\n",
       "    </tr>\n",
       "    <tr>\n",
       "      <th>Hernandez High School</th>\n",
       "      <td>227.961165</td>\n",
       "    </tr>\n",
       "    <tr>\n",
       "      <th>Rodriguez High School</th>\n",
       "      <td>755.693923</td>\n",
       "    </tr>\n",
       "    <tr>\n",
       "      <th>Figueroa High School</th>\n",
       "      <td>311.122414</td>\n",
       "    </tr>\n",
       "    <tr>\n",
       "      <th>Huang High School</th>\n",
       "      <td>452.373672</td>\n",
       "    </tr>\n",
       "    <tr>\n",
       "      <th>Ford High School</th>\n",
       "      <td>394.799562</td>\n",
       "    </tr>\n",
       "    <tr>\n",
       "      <th>Wilson High School</th>\n",
       "      <td>1368.781428</td>\n",
       "    </tr>\n",
       "    <tr>\n",
       "      <th>Cabrera High School</th>\n",
       "      <td>133.523681</td>\n",
       "    </tr>\n",
       "    <tr>\n",
       "      <th>Wright High School</th>\n",
       "      <td>325.476667</td>\n",
       "    </tr>\n",
       "    <tr>\n",
       "      <th>Shelton High School</th>\n",
       "      <td>595.911414</td>\n",
       "    </tr>\n",
       "    <tr>\n",
       "      <th>Thomas High School</th>\n",
       "      <td>1558.020183</td>\n",
       "    </tr>\n",
       "    <tr>\n",
       "      <th>Griffin High School</th>\n",
       "      <td>2108.072207</td>\n",
       "    </tr>\n",
       "    <tr>\n",
       "      <th>Pena High School</th>\n",
       "      <td>1833.592516</td>\n",
       "    </tr>\n",
       "    <tr>\n",
       "      <th>Holden High School</th>\n",
       "      <td>2442.927400</td>\n",
       "    </tr>\n",
       "  </tbody>\n",
       "</table>\n",
       "</div>"
      ],
      "text/plain": [
       "                       Per School Capita\n",
       "school_name                             \n",
       "Bailey High School            383.970056\n",
       "Johnson High School           395.801512\n",
       "Hernandez High School         227.961165\n",
       "Rodriguez High School         755.693923\n",
       "Figueroa High School          311.122414\n",
       "Huang High School             452.373672\n",
       "Ford High School              394.799562\n",
       "Wilson High School           1368.781428\n",
       "Cabrera High School           133.523681\n",
       "Wright High School            325.476667\n",
       "Shelton High School           595.911414\n",
       "Thomas High School           1558.020183\n",
       "Griffin High School          2108.072207\n",
       "Pena High School             1833.592516\n",
       "Holden High School           2442.927400"
      ]
     },
     "execution_count": 1246,
     "metadata": {},
     "output_type": "execute_result"
    }
   ],
   "source": [
    "school_count=school_data_complete[\"school_name\"].value_counts()\n",
    "per_school_capita = total_budget_values/school_count\n",
    "per_school_capita.to_frame(\"Per School Capita\")"
   ]
  },
  {
   "cell_type": "code",
   "execution_count": 1196,
   "id": "871ced78-ba7d-4a61-8b51-e0ac917a53f0",
   "metadata": {},
   "outputs": [
    {
     "data": {
      "text/html": [
       "<div>\n",
       "<style scoped>\n",
       "    .dataframe tbody tr th:only-of-type {\n",
       "        vertical-align: middle;\n",
       "    }\n",
       "\n",
       "    .dataframe tbody tr th {\n",
       "        vertical-align: top;\n",
       "    }\n",
       "\n",
       "    .dataframe thead th {\n",
       "        text-align: right;\n",
       "    }\n",
       "</style>\n",
       "<table border=\"1\" class=\"dataframe\">\n",
       "  <thead>\n",
       "    <tr style=\"text-align: right;\">\n",
       "      <th></th>\n",
       "      <th>school_name</th>\n",
       "      <th>Average Math Scores</th>\n",
       "    </tr>\n",
       "  </thead>\n",
       "  <tbody>\n",
       "    <tr>\n",
       "      <th>0</th>\n",
       "      <td>Bailey High School</td>\n",
       "      <td>77.048432</td>\n",
       "    </tr>\n",
       "    <tr>\n",
       "      <th>1</th>\n",
       "      <td>Johnson High School</td>\n",
       "      <td>77.072464</td>\n",
       "    </tr>\n",
       "    <tr>\n",
       "      <th>2</th>\n",
       "      <td>Hernandez High School</td>\n",
       "      <td>77.289752</td>\n",
       "    </tr>\n",
       "    <tr>\n",
       "      <th>3</th>\n",
       "      <td>Rodriguez High School</td>\n",
       "      <td>76.842711</td>\n",
       "    </tr>\n",
       "    <tr>\n",
       "      <th>4</th>\n",
       "      <td>Figueroa High School</td>\n",
       "      <td>76.711767</td>\n",
       "    </tr>\n",
       "    <tr>\n",
       "      <th>5</th>\n",
       "      <td>Huang High School</td>\n",
       "      <td>76.629414</td>\n",
       "    </tr>\n",
       "    <tr>\n",
       "      <th>6</th>\n",
       "      <td>Ford High School</td>\n",
       "      <td>77.102592</td>\n",
       "    </tr>\n",
       "    <tr>\n",
       "      <th>7</th>\n",
       "      <td>Wilson High School</td>\n",
       "      <td>83.274201</td>\n",
       "    </tr>\n",
       "    <tr>\n",
       "      <th>8</th>\n",
       "      <td>Cabrera High School</td>\n",
       "      <td>83.061895</td>\n",
       "    </tr>\n",
       "    <tr>\n",
       "      <th>9</th>\n",
       "      <td>Wright High School</td>\n",
       "      <td>83.682222</td>\n",
       "    </tr>\n",
       "    <tr>\n",
       "      <th>10</th>\n",
       "      <td>Shelton High School</td>\n",
       "      <td>83.359455</td>\n",
       "    </tr>\n",
       "    <tr>\n",
       "      <th>11</th>\n",
       "      <td>Thomas High School</td>\n",
       "      <td>83.418349</td>\n",
       "    </tr>\n",
       "    <tr>\n",
       "      <th>12</th>\n",
       "      <td>Griffin High School</td>\n",
       "      <td>83.351499</td>\n",
       "    </tr>\n",
       "    <tr>\n",
       "      <th>13</th>\n",
       "      <td>Pena High School</td>\n",
       "      <td>83.839917</td>\n",
       "    </tr>\n",
       "    <tr>\n",
       "      <th>14</th>\n",
       "      <td>Holden High School</td>\n",
       "      <td>83.803279</td>\n",
       "    </tr>\n",
       "  </tbody>\n",
       "</table>\n",
       "</div>"
      ],
      "text/plain": [
       "              school_name  Average Math Scores\n",
       "0      Bailey High School            77.048432\n",
       "1     Johnson High School            77.072464\n",
       "2   Hernandez High School            77.289752\n",
       "3   Rodriguez High School            76.842711\n",
       "4    Figueroa High School            76.711767\n",
       "5       Huang High School            76.629414\n",
       "6        Ford High School            77.102592\n",
       "7      Wilson High School            83.274201\n",
       "8     Cabrera High School            83.061895\n",
       "9      Wright High School            83.682222\n",
       "10    Shelton High School            83.359455\n",
       "11     Thomas High School            83.418349\n",
       "12    Griffin High School            83.351499\n",
       "13       Pena High School            83.839917\n",
       "14     Holden High School            83.803279"
      ]
     },
     "execution_count": 1196,
     "metadata": {},
     "output_type": "execute_result"
    }
   ],
   "source": [
    "bailey_scores_math = school_data_complete.loc[school_data_complete[\"school_name\"] == \"Bailey High School\"]\n",
    "bailey_mathscores_mean= bailey_scores_math[\"math_score\"].mean()\n",
    "\n",
    "johnson_scores_math = school_data_complete.loc[school_data_complete[\"school_name\"] == \"Johnson High School\"]\n",
    "johnson_mathscores_mean= johnson_scores_math[\"math_score\"].mean()\n",
    "\n",
    "hernandez_scores_math = school_data_complete.loc[school_data_complete[\"school_name\"] == \"Hernandez High School\"]\n",
    "hernandez_mathscores_mean = hernandez_scores_math[\"math_score\"].mean()\n",
    "\n",
    "rodriguez_scores_math = school_data_complete.loc[school_data_complete[\"school_name\"] == \"Rodriguez High School\"]\n",
    "rodriguez_mathscores_mean = rodriguez_scores_math[\"math_score\"].mean()\n",
    "\n",
    "figueroa_scores_math = school_data_complete.loc[school_data_complete[\"school_name\"] == \"Figueroa High School\"]\n",
    "figueroa_mathscores_mean = figueroa_scores_math[\"math_score\"].mean()\n",
    "\n",
    "huang_scores_math = school_data_complete.loc[school_data_complete[\"school_name\"] == \"Huang High School\"]\n",
    "huang_mathscores_mean = huang_scores_math[\"math_score\"].mean()\n",
    "\n",
    "ford_scores_math = school_data_complete.loc[school_data_complete[\"school_name\"] == \"Ford High School\"]\n",
    "ford_mathscores_mean = ford_scores_math[\"math_score\"].mean()\n",
    "\n",
    "wilson_scores_math = school_data_complete.loc[school_data_complete[\"school_name\"] == \"Wilson High School\"]\n",
    "wilson_mathscores_mean = wilson_scores_math[\"math_score\"].mean()\n",
    "\n",
    "cabrera_scores_math = school_data_complete.loc[school_data_complete[\"school_name\"] == \"Cabrera High School\"]\n",
    "cabrera_mathscores_mean = cabrera_scores_math[\"math_score\"].mean()\n",
    "\n",
    "wright_scores_math = school_data_complete.loc[school_data_complete[\"school_name\"] == \"Wright High School\"]\n",
    "wright_mathscores_mean = wright_scores_math[\"math_score\"].mean()\n",
    "\n",
    "shelton_scores_math = school_data_complete.loc[school_data_complete[\"school_name\"] == \"Shelton High School\"]\n",
    "shelton_mathscores_mean = shelton_scores_math[\"math_score\"].mean()\n",
    "\n",
    "thomas_scores_math = school_data_complete.loc[school_data_complete[\"school_name\"] == \"Thomas High School\"]\n",
    "thomas_mathscores_mean = thomas_scores_math[\"math_score\"].mean()\n",
    "\n",
    "griffin_scores_math = school_data_complete.loc[school_data_complete[\"school_name\"] == \"Griffin High School\"]\n",
    "griffin_mathscores_mean = griffin_scores_math[\"math_score\"].mean()\n",
    "\n",
    "pena_scores_math = school_data_complete.loc[school_data_complete[\"school_name\"] == \"Pena High School\"]\n",
    "pena_mathscores_mean = pena_scores_math[\"math_score\"].mean()\n",
    "\n",
    "holden_scores_math = school_data_complete.loc[school_data_complete[\"school_name\"] == \"Holden High School\"]\n",
    "holden_mathscores_mean = holden_scores_math[\"math_score\"].mean()\n",
    "\n",
    "per_school_math= pd.DataFrame(\n",
    "    {\"school_name\": [\"Bailey High School\", \"Johnson High School\", \"Hernandez High School\", \"Rodriguez High School\", \"Figueroa High School\",\n",
    "                     \"Huang High School\", \"Ford High School\", \"Wilson High School\", \"Cabrera High School\", \"Wright High School\",\n",
    "                     \"Shelton High School\", \"Thomas High School\", \"Griffin High School\", \"Pena High School\", \"Holden High School\"],\n",
    "    \"Average Math Scores\":[bailey_mathscores_mean, johnson_mathscores_mean, hernandez_mathscores_mean,rodriguez_mathscores_mean,\n",
    "                          figueroa_mathscores_mean, huang_mathscores_mean, ford_mathscores_mean, wilson_mathscores_mean, \n",
    "                          cabrera_mathscores_mean, wright_mathscores_mean, shelton_mathscores_mean, thomas_mathscores_mean,\n",
    "                          griffin_mathscores_mean, pena_mathscores_mean, holden_mathscores_mean]\n",
    "    })\n",
    "per_school_math.head(16)"
   ]
  },
  {
   "cell_type": "code",
   "execution_count": 1197,
   "id": "5d1bcd35-2483-4299-8f8e-54dbad1c179a",
   "metadata": {},
   "outputs": [
    {
     "data": {
      "text/html": [
       "<div>\n",
       "<style scoped>\n",
       "    .dataframe tbody tr th:only-of-type {\n",
       "        vertical-align: middle;\n",
       "    }\n",
       "\n",
       "    .dataframe tbody tr th {\n",
       "        vertical-align: top;\n",
       "    }\n",
       "\n",
       "    .dataframe thead th {\n",
       "        text-align: right;\n",
       "    }\n",
       "</style>\n",
       "<table border=\"1\" class=\"dataframe\">\n",
       "  <thead>\n",
       "    <tr style=\"text-align: right;\">\n",
       "      <th></th>\n",
       "      <th>school_name</th>\n",
       "      <th>Average Reading Scores</th>\n",
       "    </tr>\n",
       "  </thead>\n",
       "  <tbody>\n",
       "    <tr>\n",
       "      <th>0</th>\n",
       "      <td>Bailey High School</td>\n",
       "      <td>81.033963</td>\n",
       "    </tr>\n",
       "    <tr>\n",
       "      <th>1</th>\n",
       "      <td>Johnson High School</td>\n",
       "      <td>80.966394</td>\n",
       "    </tr>\n",
       "    <tr>\n",
       "      <th>2</th>\n",
       "      <td>Hernandez High School</td>\n",
       "      <td>80.934412</td>\n",
       "    </tr>\n",
       "    <tr>\n",
       "      <th>3</th>\n",
       "      <td>Rodriguez High School</td>\n",
       "      <td>80.744686</td>\n",
       "    </tr>\n",
       "    <tr>\n",
       "      <th>4</th>\n",
       "      <td>Figueroa High School</td>\n",
       "      <td>81.158020</td>\n",
       "    </tr>\n",
       "    <tr>\n",
       "      <th>5</th>\n",
       "      <td>Huang High School</td>\n",
       "      <td>81.182722</td>\n",
       "    </tr>\n",
       "    <tr>\n",
       "      <th>6</th>\n",
       "      <td>Ford High School</td>\n",
       "      <td>80.746258</td>\n",
       "    </tr>\n",
       "    <tr>\n",
       "      <th>7</th>\n",
       "      <td>Wilson High School</td>\n",
       "      <td>83.989488</td>\n",
       "    </tr>\n",
       "    <tr>\n",
       "      <th>8</th>\n",
       "      <td>Cabrera High School</td>\n",
       "      <td>83.975780</td>\n",
       "    </tr>\n",
       "    <tr>\n",
       "      <th>9</th>\n",
       "      <td>Wright High School</td>\n",
       "      <td>83.955000</td>\n",
       "    </tr>\n",
       "    <tr>\n",
       "      <th>10</th>\n",
       "      <td>Shelton High School</td>\n",
       "      <td>83.725724</td>\n",
       "    </tr>\n",
       "    <tr>\n",
       "      <th>11</th>\n",
       "      <td>Thomas High School</td>\n",
       "      <td>83.848930</td>\n",
       "    </tr>\n",
       "    <tr>\n",
       "      <th>12</th>\n",
       "      <td>Griffin High School</td>\n",
       "      <td>83.816757</td>\n",
       "    </tr>\n",
       "    <tr>\n",
       "      <th>13</th>\n",
       "      <td>Pena High School</td>\n",
       "      <td>84.044699</td>\n",
       "    </tr>\n",
       "    <tr>\n",
       "      <th>14</th>\n",
       "      <td>Holden High School</td>\n",
       "      <td>83.814988</td>\n",
       "    </tr>\n",
       "  </tbody>\n",
       "</table>\n",
       "</div>"
      ],
      "text/plain": [
       "              school_name  Average Reading Scores\n",
       "0      Bailey High School               81.033963\n",
       "1     Johnson High School               80.966394\n",
       "2   Hernandez High School               80.934412\n",
       "3   Rodriguez High School               80.744686\n",
       "4    Figueroa High School               81.158020\n",
       "5       Huang High School               81.182722\n",
       "6        Ford High School               80.746258\n",
       "7      Wilson High School               83.989488\n",
       "8     Cabrera High School               83.975780\n",
       "9      Wright High School               83.955000\n",
       "10    Shelton High School               83.725724\n",
       "11     Thomas High School               83.848930\n",
       "12    Griffin High School               83.816757\n",
       "13       Pena High School               84.044699\n",
       "14     Holden High School               83.814988"
      ]
     },
     "execution_count": 1197,
     "metadata": {},
     "output_type": "execute_result"
    }
   ],
   "source": [
    "bailey_scores_reading = school_data_complete.loc[school_data_complete[\"school_name\"] == \"Bailey High School\"]\n",
    "bailey_readingscores_mean= bailey_scores_reading[\"reading_score\"].mean()\n",
    "\n",
    "johnson_scores_reading = school_data_complete.loc[school_data_complete[\"school_name\"] == \"Johnson High School\"]\n",
    "johnson_readingscores_mean= johnson_scores_reading[\"reading_score\"].mean()\n",
    "\n",
    "hernandez_scores_reading = school_data_complete.loc[school_data_complete[\"school_name\"] == \"Hernandez High School\"]\n",
    "hernandez_readingscores_mean = hernandez_scores_reading[\"reading_score\"].mean()\n",
    "\n",
    "rodriguez_scores_reading = school_data_complete.loc[school_data_complete[\"school_name\"] == \"Rodriguez High School\"]\n",
    "rodriguez_readingscores_mean = rodriguez_scores_reading[\"reading_score\"].mean()\n",
    "\n",
    "figueroa_scores_reading = school_data_complete.loc[school_data_complete[\"school_name\"] == \"Figueroa High School\"]\n",
    "figueroa_readingscores_mean = figueroa_scores_math[\"reading_score\"].mean()\n",
    "\n",
    "huang_scores_reading = school_data_complete.loc[school_data_complete[\"school_name\"] == \"Huang High School\"]\n",
    "huang_readingscores_mean = huang_scores_reading[\"reading_score\"].mean()\n",
    "\n",
    "ford_scores_reading = school_data_complete.loc[school_data_complete[\"school_name\"] == \"Ford High School\"]\n",
    "ford_readingscores_mean = ford_scores_reading[\"reading_score\"].mean()\n",
    "\n",
    "wilson_scores_reading = school_data_complete.loc[school_data_complete[\"school_name\"] == \"Wilson High School\"]\n",
    "wilson_readingscores_mean = wilson_scores_reading[\"reading_score\"].mean()\n",
    "\n",
    "cabrera_scores_reading = school_data_complete.loc[school_data_complete[\"school_name\"] == \"Cabrera High School\"]\n",
    "cabrera_readingscores_mean = cabrera_scores_reading[\"reading_score\"].mean()\n",
    "\n",
    "wright_scores_reading = school_data_complete.loc[school_data_complete[\"school_name\"] == \"Wright High School\"]\n",
    "wright_readingscores_mean = wright_scores_reading[\"reading_score\"].mean()\n",
    "\n",
    "shelton_scores_reading = school_data_complete.loc[school_data_complete[\"school_name\"] == \"Shelton High School\"]\n",
    "shelton_readingscores_mean = shelton_scores_reading[\"reading_score\"].mean()\n",
    "\n",
    "thomas_scores_reading = school_data_complete.loc[school_data_complete[\"school_name\"] == \"Thomas High School\"]\n",
    "thomas_readingscores_mean = thomas_scores_reading[\"reading_score\"].mean()\n",
    "\n",
    "griffin_scores_reading = school_data_complete.loc[school_data_complete[\"school_name\"] == \"Griffin High School\"]\n",
    "griffin_readingscores_mean = griffin_scores_reading[\"reading_score\"].mean()\n",
    "\n",
    "pena_scores_reading = school_data_complete.loc[school_data_complete[\"school_name\"] == \"Pena High School\"]\n",
    "pena_readingscores_mean = pena_scores_reading[\"reading_score\"].mean()\n",
    "\n",
    "holden_scores_reading = school_data_complete.loc[school_data_complete[\"school_name\"] == \"Holden High School\"]\n",
    "holden_readingscores_mean = holden_scores_reading[\"reading_score\"].mean()\n",
    "\n",
    "per_school_reading= pd.DataFrame(\n",
    "    {\"school_name\": [\"Bailey High School\", \"Johnson High School\", \"Hernandez High School\", \"Rodriguez High School\", \"Figueroa High School\",\n",
    "                     \"Huang High School\", \"Ford High School\", \"Wilson High School\", \"Cabrera High School\", \"Wright High School\",\n",
    "                     \"Shelton High School\", \"Thomas High School\", \"Griffin High School\", \"Pena High School\", \"Holden High School\"],\n",
    "    \"Average Reading Scores\":[bailey_readingscores_mean, johnson_readingscores_mean, hernandez_readingscores_mean,rodriguez_readingscores_mean,\n",
    "                          figueroa_readingscores_mean, huang_readingscores_mean, ford_readingscores_mean, wilson_readingscores_mean, \n",
    "                          cabrera_readingscores_mean, wright_readingscores_mean, shelton_readingscores_mean, thomas_readingscores_mean,\n",
    "                          griffin_readingscores_mean, pena_readingscores_mean, holden_readingscores_mean]\n",
    "    })\n",
    "per_school_reading.head(16)"
   ]
  },
  {
   "cell_type": "code",
   "execution_count": 1198,
   "id": "c5fd905f-35e0-45b5-abc0-fbbd7b356f26",
   "metadata": {},
   "outputs": [],
   "source": [
    "# Total number of students by school"
   ]
  },
  {
   "cell_type": "code",
   "execution_count": 1199,
   "id": "35b31207-bbf2-47e4-bb9c-5abf13a351da",
   "metadata": {},
   "outputs": [
    {
     "data": {
      "text/plain": [
       "4976"
      ]
     },
     "execution_count": 1199,
     "metadata": {},
     "output_type": "execute_result"
    }
   ],
   "source": [
    "bailey_students = school_data_complete.loc[school_data_complete[\"school_name\"] == \"Bailey High School\"]\n",
    "bailey_students = len(bailey_students)\n",
    "\n",
    "Figueroa_students = school_data_complete.loc[school_data_complete[\"school_name\"] == \"Figueroa High School\"]\n",
    "Figueroa_students = len(Figueroa_students)\n",
    "\n",
    "johnson_students = school_data_complete.loc[school_data_complete[\"school_name\"] == \"Johnson High School\"]\n",
    "johnson_students = len(johnson_students)\n",
    "\n",
    "Hernandez_students = school_data_complete.loc[school_data_complete[\"school_name\"] == \"Hernandez High School\"]\n",
    "Hernandez_students = len(Hernandez_students)\n",
    "\n",
    "Rodriguez_students = school_data_complete.loc[school_data_complete[\"school_name\"] == \"Rodriguez High School\"]\n",
    "Rodriguez_students = len(Rodriguez_students)\n",
    "\n",
    "Huang_students = school_data_complete.loc[school_data_complete[\"school_name\"] == \"Huang High School\"]\n",
    "Huang_students = len(Huang_students)\n",
    "\n",
    "Ford_students = school_data_complete.loc[school_data_complete[\"school_name\"] == \"Ford High School\"]\n",
    "Ford_students = len(Ford_students)\n",
    "\n",
    "Wilson_students = school_data_complete.loc[school_data_complete[\"school_name\"] == \"Wilson High School\"]\n",
    "Wilson_students = len(Wilson_students)\n",
    "\n",
    "Cabrera_students = school_data_complete.loc[school_data_complete[\"school_name\"] == \"Cabrera High School\"]\n",
    "Cabrera_students = len(Cabrera_students)\n",
    "\n",
    "Wright_students = school_data_complete.loc[school_data_complete[\"school_name\"] == \"Wright High School\"]\n",
    "Wright_students = len(Wright_students)\n",
    "\n",
    "Shelton_students = school_data_complete.loc[school_data_complete[\"school_name\"] == \"Shelton High School\"]\n",
    "Shelton_students = len(Shelton_students)\n",
    "\n",
    "Thomas_students = school_data_complete.loc[school_data_complete[\"school_name\"] == \"Thomas High School\"]\n",
    "Thomas_students = len(Thomas_students)\n",
    "\n",
    "Griffin_students = school_data_complete.loc[school_data_complete[\"school_name\"] == \"Griffin High School\"]\n",
    "Griffin_students = len(Griffin_students)\n",
    "\n",
    "Pena_students = school_data_complete.loc[school_data_complete[\"school_name\"] == \"Pena High School\"]\n",
    "Pena_students = len(Pena_students)\n",
    "\n",
    "Holden_students = school_data_complete.loc[school_data_complete[\"school_name\"] == \"Holden High School\"]\n",
    "Holden_students = len(Holden_students)\n",
    "\n",
    "bailey_students"
   ]
  },
  {
   "cell_type": "code",
   "execution_count": 1200,
   "id": "f3d69bb2-1ed5-4a94-9a0a-f6a88758ecec",
   "metadata": {},
   "outputs": [],
   "source": [
    "#Percentage of Students Passing Math by School\n",
    "\n",
    "\n"
   ]
  },
  {
   "cell_type": "code",
   "execution_count": 1201,
   "id": "728dce97-441d-480f-ac0e-e927def84873",
   "metadata": {},
   "outputs": [
    {
     "data": {
      "text/plain": [
       "66.68006430868168"
      ]
     },
     "execution_count": 1201,
     "metadata": {},
     "output_type": "execute_result"
    }
   ],
   "source": [
    "students_passing_math_bailey = school_data_complete.loc[school_data_complete[\"school_name\"] == \"Bailey High School\"]\n",
    "students_passing_math_bailey = students_passing_math_bailey.loc[school_data_complete[\"math_score\"] >= 70]\n",
    "students_passing_math_bailey = len(students_passing_math_bailey[\"math_score\"])\n",
    "students_passing_math_bailey= (students_passing_math_bailey / bailey_students) * 100\n",
    "students_passing_math_bailey"
   ]
  },
  {
   "cell_type": "code",
   "execution_count": 1202,
   "id": "0799f940-54a8-4e1a-83d9-e708ff3bbd05",
   "metadata": {},
   "outputs": [
    {
     "data": {
      "text/plain": [
       "65.98847066802306"
      ]
     },
     "execution_count": 1202,
     "metadata": {},
     "output_type": "execute_result"
    }
   ],
   "source": [
    "students_passing_math_Figueroa = school_data_complete.loc[school_data_complete[\"school_name\"] == \"Figueroa High School\"]\n",
    "students_passing_math_Figueroa = students_passing_math_Figueroa.loc[school_data_complete[\"math_score\"] >= 70]\n",
    "students_passing_math_Figueroa = len(students_passing_math_Figueroa[\"math_score\"])\n",
    "students_passing_math_Figueroa = (students_passing_math_Figueroa / Figueroa_students) * 100\n",
    "students_passing_math_Figueroa"
   ]
  },
  {
   "cell_type": "code",
   "execution_count": 1203,
   "id": "d90f7e5a-c763-472f-9850-5ba628d5dc98",
   "metadata": {},
   "outputs": [
    {
     "data": {
      "text/plain": [
       "66.0575509346776"
      ]
     },
     "execution_count": 1203,
     "metadata": {},
     "output_type": "execute_result"
    }
   ],
   "source": [
    "students_passing_math_johnson = school_data_complete.loc[school_data_complete[\"school_name\"] == \"Johnson High School\"]\n",
    "students_passing_math_johnson = students_passing_math_johnson.loc[school_data_complete[\"math_score\"] >= 70]\n",
    "students_passing_math_johnson = len(students_passing_math_johnson[\"math_score\"])\n",
    "students_passing_math_johnson = (students_passing_math_johnson / johnson_students) * 100\n",
    "students_passing_math_johnson"
   ]
  },
  {
   "cell_type": "code",
   "execution_count": 1204,
   "id": "119eb107-9fb2-44d3-b410-202fd572190f",
   "metadata": {},
   "outputs": [
    {
     "data": {
      "text/plain": [
       "66.7529665587918"
      ]
     },
     "execution_count": 1204,
     "metadata": {},
     "output_type": "execute_result"
    }
   ],
   "source": [
    "students_passing_math_Hernandez = school_data_complete.loc[school_data_complete[\"school_name\"] == \"Hernandez High School\"]\n",
    "students_passing_math_Hernandez = students_passing_math_Hernandez.loc[school_data_complete[\"math_score\"] >= 70]\n",
    "students_passing_math_Hernandez = len(students_passing_math_Hernandez[\"math_score\"])\n",
    "students_passing_math_Hernandez = (students_passing_math_Hernandez/ Hernandez_students) * 100\n",
    "students_passing_math_Hernandez"
   ]
  },
  {
   "cell_type": "code",
   "execution_count": 1205,
   "id": "e3167cab-835b-4de4-b545-e5fdb50a7718",
   "metadata": {},
   "outputs": [],
   "source": [
    "students_passing_math_Rodriguez = school_data_complete.loc[school_data_complete[\"school_name\"] == \"Rodriguez High School\"]\n",
    "students_passing_math_Rodriguez = students_passing_math_Rodriguez.loc[school_data_complete[\"math_score\"] >= 70]\n",
    "students_passing_math_Rodriguez = len(students_passing_math_Rodriguez[\"math_score\"])\n",
    "students_passing_math_Rodriguez = (students_passing_math_Rodriguez / Rodriguez_students) * 100"
   ]
  },
  {
   "cell_type": "code",
   "execution_count": 1206,
   "id": "8e712a29-e852-491c-83dc-cb6e31175e56",
   "metadata": {},
   "outputs": [],
   "source": [
    "students_passing_math_Huang = school_data_complete.loc[school_data_complete[\"school_name\"] == \"Huang High School\"]\n",
    "students_passing_math_Huang = students_passing_math_Huang.loc[school_data_complete[\"math_score\"] >= 70]\n",
    "students_passing_math_Huang = len(students_passing_math_Huang[\"math_score\"])\n",
    "students_passing_math_Huang = (students_passing_math_Huang / Huang_students) * 100"
   ]
  },
  {
   "cell_type": "code",
   "execution_count": 1207,
   "id": "abf71b51-bfb6-4618-b328-f9e7236e37ff",
   "metadata": {},
   "outputs": [],
   "source": [
    "students_passing_math_Ford = school_data_complete.loc[school_data_complete[\"school_name\"] == \"Ford High School\"]\n",
    "students_passing_math_Ford = students_passing_math_Ford.loc[school_data_complete[\"math_score\"] >= 70]\n",
    "students_passing_math_Ford = len(students_passing_math_Ford[\"math_score\"])\n",
    "students_passing_math_Ford = (students_passing_math_Ford/ Ford_students) * 100"
   ]
  },
  {
   "cell_type": "code",
   "execution_count": 1208,
   "id": "751f97be-b5dd-40ed-9ed9-245fde4db207",
   "metadata": {},
   "outputs": [],
   "source": [
    "students_passing_math_Wilson = school_data_complete.loc[school_data_complete[\"school_name\"] == \"Wilson High School\"]\n",
    "students_passing_math_Wilson = students_passing_math_Wilson.loc[school_data_complete[\"math_score\"] >= 70]\n",
    "students_passing_math_Wilson = len(students_passing_math_Wilson[\"math_score\"])\n",
    "students_passing_math_Wilson = (students_passing_math_Wilson / Wilson_students) * 100"
   ]
  },
  {
   "cell_type": "code",
   "execution_count": 1209,
   "id": "ea867687-7c80-4f24-a9da-d8343f1566d7",
   "metadata": {},
   "outputs": [],
   "source": [
    "students_passing_math_Cabrera = school_data_complete.loc[school_data_complete[\"school_name\"] == \"Cabrera High School\"]\n",
    "students_passing_math_Cabrera = students_passing_math_Cabrera.loc[school_data_complete[\"math_score\"] >= 70]\n",
    "students_passing_math_Cabrera = len(students_passing_math_Cabrera[\"math_score\"])\n",
    "students_passing_math_Cabrera = (students_passing_math_Cabrera/ Cabrera_students) * 100"
   ]
  },
  {
   "cell_type": "code",
   "execution_count": 1210,
   "id": "25e9a555-8980-4cd2-8185-6d5f5317cb6c",
   "metadata": {},
   "outputs": [],
   "source": [
    "students_passing_math_Wright = school_data_complete.loc[school_data_complete[\"school_name\"] == \"Wright High School\"]\n",
    "students_passing_math_Wright = students_passing_math_Wright.loc[school_data_complete[\"math_score\"] >= 70]\n",
    "students_passing_math_Wright = len(students_passing_math_Wright[\"math_score\"])\n",
    "students_passing_math_Wright = (students_passing_math_Wright / Wright_students) * 100"
   ]
  },
  {
   "cell_type": "code",
   "execution_count": 1211,
   "id": "5efee610-3fc6-4aba-864a-1cd3db6387cd",
   "metadata": {},
   "outputs": [],
   "source": [
    "students_passing_math_Shelton = school_data_complete.loc[school_data_complete[\"school_name\"] == \"Shelton High School\"]\n",
    "students_passing_math_Shelton = students_passing_math_Shelton .loc[school_data_complete[\"math_score\"] >= 70]\n",
    "students_passing_math_Shelton = len(students_passing_math_Shelton[\"math_score\"])\n",
    "students_passing_math_Shelton = (students_passing_math_Shelton / Shelton_students) * 100"
   ]
  },
  {
   "cell_type": "code",
   "execution_count": 1212,
   "id": "6abac236-b5ab-4148-bdc9-2fc9a27b95c2",
   "metadata": {},
   "outputs": [],
   "source": [
    "students_passing_math_Thomas = school_data_complete.loc[school_data_complete[\"school_name\"] == \"Thomas High School\"]\n",
    "students_passing_math_Thomas = students_passing_math_Thomas.loc[school_data_complete[\"math_score\"] >= 70]\n",
    "students_passing_math_Thomas = len(students_passing_math_Thomas[\"math_score\"])\n",
    "students_passing_math_Thomas = (students_passing_math_Thomas / Thomas_students) * 100"
   ]
  },
  {
   "cell_type": "code",
   "execution_count": 1213,
   "id": "435130e8-a53b-4c5a-aa71-d3e3fa27a48b",
   "metadata": {},
   "outputs": [],
   "source": [
    "students_passing_math_Griffin = school_data_complete.loc[school_data_complete[\"school_name\"] == \"Griffin High School\"]\n",
    "students_passing_math_Griffin = students_passing_math_Griffin.loc[school_data_complete[\"math_score\"] >= 70]\n",
    "students_passing_math_Griffin = len(students_passing_math_Griffin[\"math_score\"])\n",
    "students_passing_math_Griffin = (students_passing_math_Griffin / Griffin_students) * 100"
   ]
  },
  {
   "cell_type": "code",
   "execution_count": 1214,
   "id": "971f7e3e-0992-4902-b02c-396877f77541",
   "metadata": {},
   "outputs": [],
   "source": [
    "students_passing_math_Pena = school_data_complete.loc[school_data_complete[\"school_name\"] == \"Pena High School\"]\n",
    "students_passing_math_Pena = students_passing_math_Pena.loc[school_data_complete[\"math_score\"] >= 70]\n",
    "students_passing_math_Pena = len(students_passing_math_Pena[\"math_score\"])\n",
    "students_passing_math_Pena = (students_passing_math_Pena / Pena_students) * 100"
   ]
  },
  {
   "cell_type": "code",
   "execution_count": 1215,
   "id": "11570bdd-6556-4456-9cb2-2d894d73b6db",
   "metadata": {},
   "outputs": [],
   "source": [
    "students_passing_math_Holden = school_data_complete.loc[school_data_complete[\"school_name\"] == \"Holden High School\"]\n",
    "students_passing_math_Holden = students_passing_math_Holden.loc[school_data_complete[\"math_score\"] >= 70]\n",
    "students_passing_math_Holden = len(students_passing_math_Holden[\"math_score\"])\n",
    "students_passing_math_Holden = (students_passing_math_Holden / Holden_students) * 100"
   ]
  },
  {
   "cell_type": "code",
   "execution_count": 1216,
   "id": "419a72d0-200b-4aad-9d86-6357ab6090f5",
   "metadata": {},
   "outputs": [
    {
     "data": {
      "text/html": [
       "<div>\n",
       "<style scoped>\n",
       "    .dataframe tbody tr th:only-of-type {\n",
       "        vertical-align: middle;\n",
       "    }\n",
       "\n",
       "    .dataframe tbody tr th {\n",
       "        vertical-align: top;\n",
       "    }\n",
       "\n",
       "    .dataframe thead th {\n",
       "        text-align: right;\n",
       "    }\n",
       "</style>\n",
       "<table border=\"1\" class=\"dataframe\">\n",
       "  <thead>\n",
       "    <tr style=\"text-align: right;\">\n",
       "      <th></th>\n",
       "      <th>school_name</th>\n",
       "      <th>Percentage Passing Math</th>\n",
       "    </tr>\n",
       "  </thead>\n",
       "  <tbody>\n",
       "    <tr>\n",
       "      <th>0</th>\n",
       "      <td>Bailey High School</td>\n",
       "      <td>66.680064</td>\n",
       "    </tr>\n",
       "    <tr>\n",
       "      <th>1</th>\n",
       "      <td>Johnson High School</td>\n",
       "      <td>66.057551</td>\n",
       "    </tr>\n",
       "    <tr>\n",
       "      <th>2</th>\n",
       "      <td>Hernandez High School</td>\n",
       "      <td>66.752967</td>\n",
       "    </tr>\n",
       "    <tr>\n",
       "      <th>3</th>\n",
       "      <td>Rodriguez High School</td>\n",
       "      <td>66.366592</td>\n",
       "    </tr>\n",
       "    <tr>\n",
       "      <th>4</th>\n",
       "      <td>Figueroa High School</td>\n",
       "      <td>65.988471</td>\n",
       "    </tr>\n",
       "    <tr>\n",
       "      <th>5</th>\n",
       "      <td>Huang High School</td>\n",
       "      <td>65.683922</td>\n",
       "    </tr>\n",
       "    <tr>\n",
       "      <th>6</th>\n",
       "      <td>Ford High School</td>\n",
       "      <td>68.309602</td>\n",
       "    </tr>\n",
       "    <tr>\n",
       "      <th>7</th>\n",
       "      <td>Wilson High School</td>\n",
       "      <td>93.867718</td>\n",
       "    </tr>\n",
       "    <tr>\n",
       "      <th>8</th>\n",
       "      <td>Cabrera High School</td>\n",
       "      <td>94.133477</td>\n",
       "    </tr>\n",
       "    <tr>\n",
       "      <th>9</th>\n",
       "      <td>Wright High School</td>\n",
       "      <td>93.333333</td>\n",
       "    </tr>\n",
       "    <tr>\n",
       "      <th>10</th>\n",
       "      <td>Shelton High School</td>\n",
       "      <td>93.867121</td>\n",
       "    </tr>\n",
       "    <tr>\n",
       "      <th>11</th>\n",
       "      <td>Thomas High School</td>\n",
       "      <td>93.272171</td>\n",
       "    </tr>\n",
       "    <tr>\n",
       "      <th>12</th>\n",
       "      <td>Griffin High School</td>\n",
       "      <td>93.392371</td>\n",
       "    </tr>\n",
       "    <tr>\n",
       "      <th>13</th>\n",
       "      <td>Pena High School</td>\n",
       "      <td>94.594595</td>\n",
       "    </tr>\n",
       "    <tr>\n",
       "      <th>14</th>\n",
       "      <td>Holden High School</td>\n",
       "      <td>92.505855</td>\n",
       "    </tr>\n",
       "  </tbody>\n",
       "</table>\n",
       "</div>"
      ],
      "text/plain": [
       "              school_name  Percentage Passing Math\n",
       "0      Bailey High School                66.680064\n",
       "1     Johnson High School                66.057551\n",
       "2   Hernandez High School                66.752967\n",
       "3   Rodriguez High School                66.366592\n",
       "4    Figueroa High School                65.988471\n",
       "5       Huang High School                65.683922\n",
       "6        Ford High School                68.309602\n",
       "7      Wilson High School                93.867718\n",
       "8     Cabrera High School                94.133477\n",
       "9      Wright High School                93.333333\n",
       "10    Shelton High School                93.867121\n",
       "11     Thomas High School                93.272171\n",
       "12    Griffin High School                93.392371\n",
       "13       Pena High School                94.594595\n",
       "14     Holden High School                92.505855"
      ]
     },
     "execution_count": 1216,
     "metadata": {},
     "output_type": "execute_result"
    }
   ],
   "source": [
    "school_students_passing_math = pd.DataFrame(\n",
    "    {\"school_name\": [\"Bailey High School\", \"Johnson High School\", \"Hernandez High School\", \"Rodriguez High School\", \"Figueroa High School\",\n",
    "                     \"Huang High School\", \"Ford High School\", \"Wilson High School\", \"Cabrera High School\", \"Wright High School\",\n",
    "                     \"Shelton High School\", \"Thomas High School\", \"Griffin High School\", \"Pena High School\", \"Holden High School\"],\n",
    "     \"Percentage Passing Math\": [students_passing_math_bailey,students_passing_math_johnson, students_passing_math_Hernandez,\n",
    "                                 students_passing_math_Rodriguez, students_passing_math_Figueroa, students_passing_math_Huang, students_passing_math_Ford, \n",
    "                                 students_passing_math_Wilson, students_passing_math_Cabrera, students_passing_math_Wright, \n",
    "                                 students_passing_math_Shelton, students_passing_math_Thomas, students_passing_math_Griffin, \n",
    "                                 students_passing_math_Pena, students_passing_math_Holden]})\n",
    "school_students_passing_math.head(16)\n",
    "\n",
    "                                "
   ]
  },
  {
   "cell_type": "code",
   "execution_count": 1217,
   "id": "3aa10ea3-7a9d-4074-b315-13d2e4dc4d87",
   "metadata": {},
   "outputs": [],
   "source": [
    "#Percentage of Students Passing Reading by School\n",
    "\n"
   ]
  },
  {
   "cell_type": "code",
   "execution_count": 1218,
   "id": "48316e5c-e070-46d8-8f9c-4687af4c3c6f",
   "metadata": {},
   "outputs": [
    {
     "data": {
      "text/plain": [
       "81.93327974276528"
      ]
     },
     "execution_count": 1218,
     "metadata": {},
     "output_type": "execute_result"
    }
   ],
   "source": [
    "students_passing_reading_bailey = school_data_complete.loc[school_data_complete[\"school_name\"] == \"Bailey High School\"]\n",
    "students_passing_reading_bailey = students_passing_reading_bailey.loc[school_data_complete[\"reading_score\"] >= 70]\n",
    "students_passing_reading_bailey = len(students_passing_reading_bailey[\"reading_score\"])\n",
    "students_passing_reading_bailey= (students_passing_reading_bailey / bailey_students) * 100\n",
    "students_passing_reading_bailey"
   ]
  },
  {
   "cell_type": "code",
   "execution_count": 1219,
   "id": "2ecd130c-1cc6-4733-ae77-7ef998a31dba",
   "metadata": {},
   "outputs": [
    {
     "data": {
      "text/plain": [
       "80.73923363852154"
      ]
     },
     "execution_count": 1219,
     "metadata": {},
     "output_type": "execute_result"
    }
   ],
   "source": [
    "students_passing_reading_Figueroa = school_data_complete.loc[school_data_complete[\"school_name\"] == \"Figueroa High School\"]\n",
    "students_passing_reading_Figueroa = students_passing_reading_Figueroa.loc[school_data_complete[\"reading_score\"] >= 70]\n",
    "students_passing_reading_Figueroa = len(students_passing_reading_Figueroa[\"reading_score\"])\n",
    "students_passing_reading_Figueroa = (students_passing_reading_Figueroa / Figueroa_students) * 100\n",
    "students_passing_reading_Figueroa"
   ]
  },
  {
   "cell_type": "code",
   "execution_count": 1220,
   "id": "be68de02-2974-421b-bbca-3c1b2f85dd87",
   "metadata": {},
   "outputs": [
    {
     "data": {
      "text/plain": [
       "81.2224322621298"
      ]
     },
     "execution_count": 1220,
     "metadata": {},
     "output_type": "execute_result"
    }
   ],
   "source": [
    "students_passing_reading_johnson = school_data_complete.loc[school_data_complete[\"school_name\"] == \"Johnson High School\"]\n",
    "students_passing_reading_johnson = students_passing_reading_johnson.loc[school_data_complete[\"reading_score\"] >= 70]\n",
    "students_passing_reading_johnson = len(students_passing_reading_johnson[\"reading_score\"])\n",
    "students_passing_reading_johnson = (students_passing_reading_johnson / johnson_students) * 100\n",
    "students_passing_reading_johnson"
   ]
  },
  {
   "cell_type": "code",
   "execution_count": 1221,
   "id": "9a64a369-b881-46b0-ab1e-c468036f009d",
   "metadata": {},
   "outputs": [
    {
     "data": {
      "text/plain": [
       "80.86299892125135"
      ]
     },
     "execution_count": 1221,
     "metadata": {},
     "output_type": "execute_result"
    }
   ],
   "source": [
    "students_passing_reading_Hernandez = school_data_complete.loc[school_data_complete[\"school_name\"] == \"Hernandez High School\"]\n",
    "students_passing_reading_Hernandez = students_passing_reading_Hernandez.loc[school_data_complete[\"reading_score\"] >= 70]\n",
    "students_passing_reading_Hernandez = len(students_passing_reading_Hernandez[\"reading_score\"])\n",
    "students_passing_reading_Hernandez = (students_passing_reading_Hernandez/ Hernandez_students) * 100\n",
    "students_passing_reading_Hernandez"
   ]
  },
  {
   "cell_type": "code",
   "execution_count": 1222,
   "id": "d942e4e2-007e-468f-8089-c6f95d441794",
   "metadata": {},
   "outputs": [
    {
     "data": {
      "text/plain": [
       "80.22005501375344"
      ]
     },
     "execution_count": 1222,
     "metadata": {},
     "output_type": "execute_result"
    }
   ],
   "source": [
    "students_passing_reading_Rodriguez = school_data_complete.loc[school_data_complete[\"school_name\"] == \"Rodriguez High School\"]\n",
    "students_passing_reading_Rodriguez = students_passing_reading_Rodriguez.loc[school_data_complete[\"reading_score\"] >= 70]\n",
    "students_passing_reading_Rodriguez = len(students_passing_reading_Rodriguez[\"reading_score\"])\n",
    "students_passing_reading_Rodriguez = (students_passing_reading_Rodriguez / Rodriguez_students) * 100\n",
    "students_passing_reading_Rodriguez"
   ]
  },
  {
   "cell_type": "code",
   "execution_count": 1223,
   "id": "c5e85aee-0fd8-45c0-a84d-a1968106c91a",
   "metadata": {},
   "outputs": [
    {
     "data": {
      "text/plain": [
       "81.31642098045938"
      ]
     },
     "execution_count": 1223,
     "metadata": {},
     "output_type": "execute_result"
    }
   ],
   "source": [
    "students_passing_reading_Huang = school_data_complete.loc[school_data_complete[\"school_name\"] == \"Huang High School\"]\n",
    "students_passing_reading_Huang = students_passing_reading_Huang.loc[school_data_complete[\"reading_score\"] >= 70]\n",
    "students_passing_reading_Huang = len(students_passing_reading_Huang[\"reading_score\"])\n",
    "students_passing_reading_Huang = (students_passing_reading_Huang / Huang_students) * 100\n",
    "students_passing_reading_Huang"
   ]
  },
  {
   "cell_type": "code",
   "execution_count": 1224,
   "id": "7e1551bc-1d48-452c-8b1e-8a0b3cfcd8a7",
   "metadata": {},
   "outputs": [
    {
     "data": {
      "text/plain": [
       "79.29901423877328"
      ]
     },
     "execution_count": 1224,
     "metadata": {},
     "output_type": "execute_result"
    }
   ],
   "source": [
    "students_passing_reading_Ford = school_data_complete.loc[school_data_complete[\"school_name\"] == \"Ford High School\"]\n",
    "students_passing_reading_Ford = students_passing_reading_Ford.loc[school_data_complete[\"reading_score\"] >= 70]\n",
    "students_passing_reading_Ford = len(students_passing_reading_Ford[\"reading_score\"])\n",
    "students_passing_reading_Ford = (students_passing_reading_Ford/ Ford_students) * 100\n",
    "students_passing_reading_Ford"
   ]
  },
  {
   "cell_type": "code",
   "execution_count": 1225,
   "id": "ba11213a-ab72-4fe7-a9ff-8a24551da489",
   "metadata": {},
   "outputs": [
    {
     "data": {
      "text/plain": [
       "96.53964082347788"
      ]
     },
     "execution_count": 1225,
     "metadata": {},
     "output_type": "execute_result"
    }
   ],
   "source": [
    "students_passing_reading_Wilson = school_data_complete.loc[school_data_complete[\"school_name\"] == \"Wilson High School\"]\n",
    "students_passing_reading_Wilson = students_passing_reading_Wilson.loc[school_data_complete[\"reading_score\"] >= 70]\n",
    "students_passing_reading_Wilson = len(students_passing_reading_Wilson[\"reading_score\"])\n",
    "students_passing_reading_Wilson = (students_passing_reading_Wilson / Wilson_students) * 100\n",
    "students_passing_reading_Wilson"
   ]
  },
  {
   "cell_type": "code",
   "execution_count": 1226,
   "id": "bc4bb79b-1022-43cd-aa04-27b8dd97281d",
   "metadata": {},
   "outputs": [
    {
     "data": {
      "text/plain": [
       "97.03982777179763"
      ]
     },
     "execution_count": 1226,
     "metadata": {},
     "output_type": "execute_result"
    }
   ],
   "source": [
    "students_passing_reading_Cabrera = school_data_complete.loc[school_data_complete[\"school_name\"] == \"Cabrera High School\"]\n",
    "students_passing_reading_Cabrera = students_passing_reading_Cabrera.loc[school_data_complete[\"reading_score\"] >= 70]\n",
    "students_passing_reading_Cabrera = len(students_passing_reading_Cabrera[\"reading_score\"])\n",
    "students_passing_reading_Cabrera = (students_passing_reading_Cabrera/ Cabrera_students) * 100\n",
    "students_passing_reading_Cabrera"
   ]
  },
  {
   "cell_type": "code",
   "execution_count": 1227,
   "id": "c02b8348-73bf-40af-8990-ee395b87d86e",
   "metadata": {},
   "outputs": [
    {
     "data": {
      "text/plain": [
       "96.61111111111111"
      ]
     },
     "execution_count": 1227,
     "metadata": {},
     "output_type": "execute_result"
    }
   ],
   "source": [
    "students_passing_reading_Wright = school_data_complete.loc[school_data_complete[\"school_name\"] == \"Wright High School\"]\n",
    "students_passing_reading_Wright = students_passing_reading_Wright.loc[school_data_complete[\"reading_score\"] >= 70]\n",
    "students_passing_reading_Wright = len(students_passing_reading_Wright[\"reading_score\"])\n",
    "students_passing_reading_Wright = (students_passing_reading_Wright / Wright_students) * 100\n",
    "students_passing_reading_Wright"
   ]
  },
  {
   "cell_type": "code",
   "execution_count": 1228,
   "id": "37d6fc33-8147-4aef-9629-40c6d76cdd3e",
   "metadata": {},
   "outputs": [
    {
     "data": {
      "text/plain": [
       "95.85462805224304"
      ]
     },
     "execution_count": 1228,
     "metadata": {},
     "output_type": "execute_result"
    }
   ],
   "source": [
    "students_passing_reading_Shelton = school_data_complete.loc[school_data_complete[\"school_name\"] == \"Shelton High School\"]\n",
    "students_passing_reading_Shelton = students_passing_reading_Shelton .loc[school_data_complete[\"reading_score\"] >= 70]\n",
    "students_passing_reading_Shelton = len(students_passing_reading_Shelton[\"reading_score\"])\n",
    "students_passing_reading_Shelton = (students_passing_reading_Shelton / Shelton_students) * 100\n",
    "students_passing_reading_Shelton"
   ]
  },
  {
   "cell_type": "code",
   "execution_count": 1229,
   "id": "1ed0d913-8c14-434e-b752-406aff20882a",
   "metadata": {},
   "outputs": [
    {
     "data": {
      "text/plain": [
       "97.30886850152906"
      ]
     },
     "execution_count": 1229,
     "metadata": {},
     "output_type": "execute_result"
    }
   ],
   "source": [
    "students_passing_reading_Thomas = school_data_complete.loc[school_data_complete[\"school_name\"] == \"Thomas High School\"]\n",
    "students_passing_reading_Thomas = students_passing_reading_Thomas.loc[school_data_complete[\"reading_score\"] >= 70]\n",
    "students_passing_reading_Thomas = len(students_passing_reading_Thomas[\"reading_score\"])\n",
    "students_passing_reading_Thomas = (students_passing_reading_Thomas / Thomas_students) * 100\n",
    "students_passing_reading_Thomas"
   ]
  },
  {
   "cell_type": "code",
   "execution_count": 1230,
   "id": "994597a9-f719-46a4-bbe2-f26b2324da9d",
   "metadata": {},
   "outputs": [
    {
     "data": {
      "text/plain": [
       "97.13896457765668"
      ]
     },
     "execution_count": 1230,
     "metadata": {},
     "output_type": "execute_result"
    }
   ],
   "source": [
    "students_passing_reading_Griffin = school_data_complete.loc[school_data_complete[\"school_name\"] == \"Griffin High School\"]\n",
    "students_passing_reading_Griffin = students_passing_reading_Griffin.loc[school_data_complete[\"reading_score\"] >= 70]\n",
    "students_passing_reading_Griffin = len(students_passing_reading_Griffin[\"reading_score\"])\n",
    "students_passing_reading_Griffin = (students_passing_reading_Griffin / Griffin_students) * 100\n",
    "students_passing_reading_Griffin"
   ]
  },
  {
   "cell_type": "code",
   "execution_count": 1231,
   "id": "0a36387c-fb54-42b2-9292-b4835021bc3b",
   "metadata": {},
   "outputs": [
    {
     "data": {
      "text/plain": [
       "95.94594594594594"
      ]
     },
     "execution_count": 1231,
     "metadata": {},
     "output_type": "execute_result"
    }
   ],
   "source": [
    "students_passing_reading_Pena = school_data_complete.loc[school_data_complete[\"school_name\"] == \"Pena High School\"]\n",
    "students_passing_reading_Pena = students_passing_reading_Pena.loc[school_data_complete[\"reading_score\"] >= 70]\n",
    "students_passing_reading_Pena = len(students_passing_reading_Pena[\"reading_score\"])\n",
    "students_passing_reading_Pena = (students_passing_reading_Pena / Pena_students) * 100\n",
    "students_passing_reading_Pena"
   ]
  },
  {
   "cell_type": "code",
   "execution_count": 1232,
   "id": "4f7bd386-da22-4b6d-bb31-b370eca91398",
   "metadata": {},
   "outputs": [
    {
     "data": {
      "text/plain": [
       "96.25292740046838"
      ]
     },
     "execution_count": 1232,
     "metadata": {},
     "output_type": "execute_result"
    }
   ],
   "source": [
    "students_passing_reading_Holden = school_data_complete.loc[school_data_complete[\"school_name\"] == \"Holden High School\"]\n",
    "students_passing_reading_Holden = students_passing_reading_Holden.loc[school_data_complete[\"reading_score\"] >= 70]\n",
    "students_passing_reading_Holden = len(students_passing_reading_Holden[\"reading_score\"])\n",
    "students_passing_reading_Holden = (students_passing_reading_Holden / Holden_students) * 100\n",
    "students_passing_reading_Holden"
   ]
  },
  {
   "cell_type": "code",
   "execution_count": 1233,
   "id": "86e77556-9ac2-4309-9355-806b912ceb23",
   "metadata": {},
   "outputs": [
    {
     "data": {
      "text/html": [
       "<div>\n",
       "<style scoped>\n",
       "    .dataframe tbody tr th:only-of-type {\n",
       "        vertical-align: middle;\n",
       "    }\n",
       "\n",
       "    .dataframe tbody tr th {\n",
       "        vertical-align: top;\n",
       "    }\n",
       "\n",
       "    .dataframe thead th {\n",
       "        text-align: right;\n",
       "    }\n",
       "</style>\n",
       "<table border=\"1\" class=\"dataframe\">\n",
       "  <thead>\n",
       "    <tr style=\"text-align: right;\">\n",
       "      <th></th>\n",
       "      <th>school_name</th>\n",
       "      <th>Percentage Passing Reading</th>\n",
       "    </tr>\n",
       "  </thead>\n",
       "  <tbody>\n",
       "    <tr>\n",
       "      <th>0</th>\n",
       "      <td>Bailey High School</td>\n",
       "      <td>81.933280</td>\n",
       "    </tr>\n",
       "    <tr>\n",
       "      <th>1</th>\n",
       "      <td>Johnson High School</td>\n",
       "      <td>81.222432</td>\n",
       "    </tr>\n",
       "    <tr>\n",
       "      <th>2</th>\n",
       "      <td>Hernandez High School</td>\n",
       "      <td>80.862999</td>\n",
       "    </tr>\n",
       "    <tr>\n",
       "      <th>3</th>\n",
       "      <td>Rodriguez High School</td>\n",
       "      <td>80.220055</td>\n",
       "    </tr>\n",
       "    <tr>\n",
       "      <th>4</th>\n",
       "      <td>Figueroa High School</td>\n",
       "      <td>80.739234</td>\n",
       "    </tr>\n",
       "    <tr>\n",
       "      <th>5</th>\n",
       "      <td>Huang High School</td>\n",
       "      <td>81.316421</td>\n",
       "    </tr>\n",
       "    <tr>\n",
       "      <th>6</th>\n",
       "      <td>Ford High School</td>\n",
       "      <td>79.299014</td>\n",
       "    </tr>\n",
       "    <tr>\n",
       "      <th>7</th>\n",
       "      <td>Wilson High School</td>\n",
       "      <td>96.539641</td>\n",
       "    </tr>\n",
       "    <tr>\n",
       "      <th>8</th>\n",
       "      <td>Cabrera High School</td>\n",
       "      <td>97.039828</td>\n",
       "    </tr>\n",
       "    <tr>\n",
       "      <th>9</th>\n",
       "      <td>Wright High School</td>\n",
       "      <td>96.611111</td>\n",
       "    </tr>\n",
       "    <tr>\n",
       "      <th>10</th>\n",
       "      <td>Shelton High School</td>\n",
       "      <td>95.854628</td>\n",
       "    </tr>\n",
       "    <tr>\n",
       "      <th>11</th>\n",
       "      <td>Thomas High School</td>\n",
       "      <td>97.308869</td>\n",
       "    </tr>\n",
       "    <tr>\n",
       "      <th>12</th>\n",
       "      <td>Griffin High School</td>\n",
       "      <td>97.138965</td>\n",
       "    </tr>\n",
       "    <tr>\n",
       "      <th>13</th>\n",
       "      <td>Pena High School</td>\n",
       "      <td>95.945946</td>\n",
       "    </tr>\n",
       "    <tr>\n",
       "      <th>14</th>\n",
       "      <td>Holden High School</td>\n",
       "      <td>96.252927</td>\n",
       "    </tr>\n",
       "  </tbody>\n",
       "</table>\n",
       "</div>"
      ],
      "text/plain": [
       "              school_name  Percentage Passing Reading\n",
       "0      Bailey High School                   81.933280\n",
       "1     Johnson High School                   81.222432\n",
       "2   Hernandez High School                   80.862999\n",
       "3   Rodriguez High School                   80.220055\n",
       "4    Figueroa High School                   80.739234\n",
       "5       Huang High School                   81.316421\n",
       "6        Ford High School                   79.299014\n",
       "7      Wilson High School                   96.539641\n",
       "8     Cabrera High School                   97.039828\n",
       "9      Wright High School                   96.611111\n",
       "10    Shelton High School                   95.854628\n",
       "11     Thomas High School                   97.308869\n",
       "12    Griffin High School                   97.138965\n",
       "13       Pena High School                   95.945946\n",
       "14     Holden High School                   96.252927"
      ]
     },
     "execution_count": 1233,
     "metadata": {},
     "output_type": "execute_result"
    }
   ],
   "source": [
    "school_students_passing_reading = pd.DataFrame(\n",
    "    {\"school_name\": [\"Bailey High School\", \"Johnson High School\", \"Hernandez High School\", \"Rodriguez High School\", \"Figueroa High School\",\n",
    "                     \"Huang High School\", \"Ford High School\", \"Wilson High School\", \"Cabrera High School\", \"Wright High School\",\n",
    "                     \"Shelton High School\", \"Thomas High School\", \"Griffin High School\", \"Pena High School\", \"Holden High School\"],\n",
    "     \"Percentage Passing Reading\": [students_passing_reading_bailey,students_passing_reading_johnson, students_passing_reading_Hernandez,\n",
    "                                 students_passing_reading_Rodriguez, students_passing_reading_Figueroa, students_passing_reading_Huang, students_passing_reading_Ford, \n",
    "                                 students_passing_reading_Wilson, students_passing_reading_Cabrera, students_passing_reading_Wright, \n",
    "                                 students_passing_reading_Shelton, students_passing_reading_Thomas, students_passing_reading_Griffin, \n",
    "                                 students_passing_reading_Pena, students_passing_reading_Holden]})\n",
    "school_students_passing_reading.head(16)"
   ]
  },
  {
   "cell_type": "code",
   "execution_count": 1234,
   "id": "daf67a84-5317-4064-863b-687974f5d01c",
   "metadata": {},
   "outputs": [
    {
     "data": {
      "text/html": [
       "<div>\n",
       "<style scoped>\n",
       "    .dataframe tbody tr th:only-of-type {\n",
       "        vertical-align: middle;\n",
       "    }\n",
       "\n",
       "    .dataframe tbody tr th {\n",
       "        vertical-align: top;\n",
       "    }\n",
       "\n",
       "    .dataframe thead th {\n",
       "        text-align: right;\n",
       "    }\n",
       "</style>\n",
       "<table border=\"1\" class=\"dataframe\">\n",
       "  <thead>\n",
       "    <tr style=\"text-align: right;\">\n",
       "      <th></th>\n",
       "      <th>school_students_passing_math_and_reading</th>\n",
       "    </tr>\n",
       "    <tr>\n",
       "      <th>school_name</th>\n",
       "      <th></th>\n",
       "    </tr>\n",
       "  </thead>\n",
       "  <tbody>\n",
       "    <tr>\n",
       "      <th>Bailey High School</th>\n",
       "      <td>2719</td>\n",
       "    </tr>\n",
       "    <tr>\n",
       "      <th>Cabrera High School</th>\n",
       "      <td>1697</td>\n",
       "    </tr>\n",
       "    <tr>\n",
       "      <th>Figueroa High School</th>\n",
       "      <td>1569</td>\n",
       "    </tr>\n",
       "    <tr>\n",
       "      <th>Ford High School</th>\n",
       "      <td>1487</td>\n",
       "    </tr>\n",
       "    <tr>\n",
       "      <th>Griffin High School</th>\n",
       "      <td>1330</td>\n",
       "    </tr>\n",
       "    <tr>\n",
       "      <th>Hernandez High School</th>\n",
       "      <td>2481</td>\n",
       "    </tr>\n",
       "    <tr>\n",
       "      <th>Holden High School</th>\n",
       "      <td>381</td>\n",
       "    </tr>\n",
       "    <tr>\n",
       "      <th>Huang High School</th>\n",
       "      <td>1561</td>\n",
       "    </tr>\n",
       "    <tr>\n",
       "      <th>Johnson High School</th>\n",
       "      <td>2549</td>\n",
       "    </tr>\n",
       "    <tr>\n",
       "      <th>Pena High School</th>\n",
       "      <td>871</td>\n",
       "    </tr>\n",
       "    <tr>\n",
       "      <th>Rodriguez High School</th>\n",
       "      <td>2119</td>\n",
       "    </tr>\n",
       "    <tr>\n",
       "      <th>Shelton High School</th>\n",
       "      <td>1583</td>\n",
       "    </tr>\n",
       "    <tr>\n",
       "      <th>Thomas High School</th>\n",
       "      <td>1487</td>\n",
       "    </tr>\n",
       "    <tr>\n",
       "      <th>Wilson High School</th>\n",
       "      <td>2068</td>\n",
       "    </tr>\n",
       "    <tr>\n",
       "      <th>Wright High School</th>\n",
       "      <td>1626</td>\n",
       "    </tr>\n",
       "  </tbody>\n",
       "</table>\n",
       "</div>"
      ],
      "text/plain": [
       "                       school_students_passing_math_and_reading\n",
       "school_name                                                    \n",
       "Bailey High School                                         2719\n",
       "Cabrera High School                                        1697\n",
       "Figueroa High School                                       1569\n",
       "Ford High School                                           1487\n",
       "Griffin High School                                        1330\n",
       "Hernandez High School                                      2481\n",
       "Holden High School                                          381\n",
       "Huang High School                                          1561\n",
       "Johnson High School                                        2549\n",
       "Pena High School                                            871\n",
       "Rodriguez High School                                      2119\n",
       "Shelton High School                                        1583\n",
       "Thomas High School                                         1487\n",
       "Wilson High School                                         2068\n",
       "Wright High School                                         1626"
      ]
     },
     "execution_count": 1234,
     "metadata": {},
     "output_type": "execute_result"
    }
   ],
   "source": [
    "# Use the provided code to calculate the number of students per school that passed both math and reading with scores of 70 or higher\n",
    "students_passing_math_and_reading = school_data_complete[\n",
    "    (school_data_complete[\"reading_score\"] >= 70) & (school_data_complete[\"math_score\"] >= 70)\n",
    "]\n",
    "school_students_passing_math_and_reading = students_passing_math_and_reading.groupby([\"school_name\"]).size()\n",
    "school_students_passing_math_and_reading = school_students_passing_math_and_reading.to_frame(\"school_students_passing_math_and_reading\")\n",
    "school_students_passing_math_and_reading"
   ]
  },
  {
   "cell_type": "code",
   "execution_count": 1235,
   "id": "0b41ce5f-5966-43f4-9725-6885562f88fb",
   "metadata": {},
   "outputs": [
    {
     "data": {
      "text/html": [
       "<div>\n",
       "<style scoped>\n",
       "    .dataframe tbody tr th:only-of-type {\n",
       "        vertical-align: middle;\n",
       "    }\n",
       "\n",
       "    .dataframe tbody tr th {\n",
       "        vertical-align: top;\n",
       "    }\n",
       "\n",
       "    .dataframe thead th {\n",
       "        text-align: right;\n",
       "    }\n",
       "</style>\n",
       "<table border=\"1\" class=\"dataframe\">\n",
       "  <thead>\n",
       "    <tr style=\"text-align: right;\">\n",
       "      <th></th>\n",
       "      <th>Overall Passing Rate</th>\n",
       "    </tr>\n",
       "    <tr>\n",
       "      <th>school_name</th>\n",
       "      <th></th>\n",
       "    </tr>\n",
       "  </thead>\n",
       "  <tbody>\n",
       "    <tr>\n",
       "      <th>Bailey High School</th>\n",
       "      <td>54.642283</td>\n",
       "    </tr>\n",
       "    <tr>\n",
       "      <th>Cabrera High School</th>\n",
       "      <td>91.334769</td>\n",
       "    </tr>\n",
       "    <tr>\n",
       "      <th>Figueroa High School</th>\n",
       "      <td>53.204476</td>\n",
       "    </tr>\n",
       "    <tr>\n",
       "      <th>Ford High School</th>\n",
       "      <td>54.289887</td>\n",
       "    </tr>\n",
       "    <tr>\n",
       "      <th>Griffin High School</th>\n",
       "      <td>90.599455</td>\n",
       "    </tr>\n",
       "    <tr>\n",
       "      <th>Hernandez High School</th>\n",
       "      <td>53.527508</td>\n",
       "    </tr>\n",
       "    <tr>\n",
       "      <th>Holden High School</th>\n",
       "      <td>89.227166</td>\n",
       "    </tr>\n",
       "    <tr>\n",
       "      <th>Huang High School</th>\n",
       "      <td>53.513884</td>\n",
       "    </tr>\n",
       "    <tr>\n",
       "      <th>Johnson High School</th>\n",
       "      <td>53.539172</td>\n",
       "    </tr>\n",
       "    <tr>\n",
       "      <th>Pena High School</th>\n",
       "      <td>90.540541</td>\n",
       "    </tr>\n",
       "    <tr>\n",
       "      <th>Rodriguez High School</th>\n",
       "      <td>52.988247</td>\n",
       "    </tr>\n",
       "    <tr>\n",
       "      <th>Shelton High School</th>\n",
       "      <td>89.892107</td>\n",
       "    </tr>\n",
       "    <tr>\n",
       "      <th>Thomas High School</th>\n",
       "      <td>90.948012</td>\n",
       "    </tr>\n",
       "    <tr>\n",
       "      <th>Wilson High School</th>\n",
       "      <td>90.582567</td>\n",
       "    </tr>\n",
       "    <tr>\n",
       "      <th>Wright High School</th>\n",
       "      <td>90.333333</td>\n",
       "    </tr>\n",
       "  </tbody>\n",
       "</table>\n",
       "</div>"
      ],
      "text/plain": [
       "                       Overall Passing Rate\n",
       "school_name                                \n",
       "Bailey High School                54.642283\n",
       "Cabrera High School               91.334769\n",
       "Figueroa High School              53.204476\n",
       "Ford High School                  54.289887\n",
       "Griffin High School               90.599455\n",
       "Hernandez High School             53.527508\n",
       "Holden High School                89.227166\n",
       "Huang High School                 53.513884\n",
       "Johnson High School               53.539172\n",
       "Pena High School                  90.540541\n",
       "Rodriguez High School             52.988247\n",
       "Shelton High School               89.892107\n",
       "Thomas High School                90.948012\n",
       "Wilson High School                90.582567\n",
       "Wright High School                90.333333"
      ]
     },
     "execution_count": 1235,
     "metadata": {},
     "output_type": "execute_result"
    }
   ],
   "source": [
    "# Use the provided code to calculate the passing rates\n",
    "per_school_passing_math = school_students_passing_math / per_school_counts * 100\n",
    "per_school_passing_reading = school_students_passing_reading / per_school_counts * 100\n",
    "overall_passing_rate = school_students_passing_math_and_reading / per_school_counts * 100\n",
    "overall_df"
   ]
  },
  {
   "cell_type": "code",
   "execution_count": 1238,
   "id": "3525feee-bd28-4f8e-8615-548e99fd4950",
   "metadata": {},
   "outputs": [
    {
     "data": {
      "text/html": [
       "<div>\n",
       "<style scoped>\n",
       "    .dataframe tbody tr th:only-of-type {\n",
       "        vertical-align: middle;\n",
       "    }\n",
       "\n",
       "    .dataframe tbody tr th {\n",
       "        vertical-align: top;\n",
       "    }\n",
       "\n",
       "    .dataframe thead th {\n",
       "        text-align: right;\n",
       "    }\n",
       "</style>\n",
       "<table border=\"1\" class=\"dataframe\">\n",
       "  <thead>\n",
       "    <tr style=\"text-align: right;\">\n",
       "      <th></th>\n",
       "      <th>school_name</th>\n",
       "      <th>school_types</th>\n",
       "      <th>Total Students</th>\n",
       "      <th>Total School Budget</th>\n",
       "      <th>Per School Capita</th>\n",
       "      <th>Average Math Scores</th>\n",
       "      <th>Average Reading Scores</th>\n",
       "      <th>Percentage Passing Math</th>\n",
       "      <th>Percentage Passing Reading</th>\n",
       "      <th>Overall Passing Rate</th>\n",
       "    </tr>\n",
       "  </thead>\n",
       "  <tbody>\n",
       "    <tr>\n",
       "      <th>0</th>\n",
       "      <td>Huang High School</td>\n",
       "      <td>District</td>\n",
       "      <td>2917</td>\n",
       "      <td>1910635</td>\n",
       "      <td>452.373672</td>\n",
       "      <td>76.629414</td>\n",
       "      <td>81.182722</td>\n",
       "      <td>65.683922</td>\n",
       "      <td>81.316421</td>\n",
       "      <td>53.513884</td>\n",
       "    </tr>\n",
       "    <tr>\n",
       "      <th>1</th>\n",
       "      <td>Figueroa High School</td>\n",
       "      <td>District</td>\n",
       "      <td>2949</td>\n",
       "      <td>1884411</td>\n",
       "      <td>311.122414</td>\n",
       "      <td>76.711767</td>\n",
       "      <td>81.158020</td>\n",
       "      <td>65.988471</td>\n",
       "      <td>80.739234</td>\n",
       "      <td>53.204476</td>\n",
       "    </tr>\n",
       "    <tr>\n",
       "      <th>2</th>\n",
       "      <td>Shelton High School</td>\n",
       "      <td>Charter</td>\n",
       "      <td>1761</td>\n",
       "      <td>1056600</td>\n",
       "      <td>595.911414</td>\n",
       "      <td>83.359455</td>\n",
       "      <td>83.725724</td>\n",
       "      <td>93.867121</td>\n",
       "      <td>95.854628</td>\n",
       "      <td>89.892107</td>\n",
       "    </tr>\n",
       "    <tr>\n",
       "      <th>3</th>\n",
       "      <td>Hernandez High School</td>\n",
       "      <td>District</td>\n",
       "      <td>4635</td>\n",
       "      <td>3022020</td>\n",
       "      <td>227.961165</td>\n",
       "      <td>77.289752</td>\n",
       "      <td>80.934412</td>\n",
       "      <td>66.752967</td>\n",
       "      <td>80.862999</td>\n",
       "      <td>53.527508</td>\n",
       "    </tr>\n",
       "    <tr>\n",
       "      <th>4</th>\n",
       "      <td>Griffin High School</td>\n",
       "      <td>Charter</td>\n",
       "      <td>1468</td>\n",
       "      <td>917500</td>\n",
       "      <td>2108.072207</td>\n",
       "      <td>83.351499</td>\n",
       "      <td>83.816757</td>\n",
       "      <td>93.392371</td>\n",
       "      <td>97.138965</td>\n",
       "      <td>90.599455</td>\n",
       "    </tr>\n",
       "    <tr>\n",
       "      <th>5</th>\n",
       "      <td>Wilson High School</td>\n",
       "      <td>Charter</td>\n",
       "      <td>2283</td>\n",
       "      <td>1319574</td>\n",
       "      <td>1368.781428</td>\n",
       "      <td>83.274201</td>\n",
       "      <td>83.989488</td>\n",
       "      <td>93.867718</td>\n",
       "      <td>96.539641</td>\n",
       "      <td>90.582567</td>\n",
       "    </tr>\n",
       "    <tr>\n",
       "      <th>6</th>\n",
       "      <td>Cabrera High School</td>\n",
       "      <td>Charter</td>\n",
       "      <td>1858</td>\n",
       "      <td>1081356</td>\n",
       "      <td>133.523681</td>\n",
       "      <td>83.061895</td>\n",
       "      <td>83.975780</td>\n",
       "      <td>94.133477</td>\n",
       "      <td>97.039828</td>\n",
       "      <td>91.334769</td>\n",
       "    </tr>\n",
       "    <tr>\n",
       "      <th>7</th>\n",
       "      <td>Bailey High School</td>\n",
       "      <td>District</td>\n",
       "      <td>4976</td>\n",
       "      <td>3124928</td>\n",
       "      <td>383.970056</td>\n",
       "      <td>77.048432</td>\n",
       "      <td>81.033963</td>\n",
       "      <td>66.680064</td>\n",
       "      <td>81.933280</td>\n",
       "      <td>54.642283</td>\n",
       "    </tr>\n",
       "    <tr>\n",
       "      <th>8</th>\n",
       "      <td>Holden High School</td>\n",
       "      <td>Charter</td>\n",
       "      <td>427</td>\n",
       "      <td>248087</td>\n",
       "      <td>2442.927400</td>\n",
       "      <td>83.803279</td>\n",
       "      <td>83.814988</td>\n",
       "      <td>92.505855</td>\n",
       "      <td>96.252927</td>\n",
       "      <td>89.227166</td>\n",
       "    </tr>\n",
       "    <tr>\n",
       "      <th>9</th>\n",
       "      <td>Pena High School</td>\n",
       "      <td>Charter</td>\n",
       "      <td>962</td>\n",
       "      <td>585858</td>\n",
       "      <td>1833.592516</td>\n",
       "      <td>83.839917</td>\n",
       "      <td>84.044699</td>\n",
       "      <td>94.594595</td>\n",
       "      <td>95.945946</td>\n",
       "      <td>90.540541</td>\n",
       "    </tr>\n",
       "    <tr>\n",
       "      <th>10</th>\n",
       "      <td>Wright High School</td>\n",
       "      <td>Charter</td>\n",
       "      <td>1800</td>\n",
       "      <td>1049400</td>\n",
       "      <td>325.476667</td>\n",
       "      <td>83.682222</td>\n",
       "      <td>83.955000</td>\n",
       "      <td>93.333333</td>\n",
       "      <td>96.611111</td>\n",
       "      <td>90.333333</td>\n",
       "    </tr>\n",
       "    <tr>\n",
       "      <th>11</th>\n",
       "      <td>Rodriguez High School</td>\n",
       "      <td>District</td>\n",
       "      <td>3999</td>\n",
       "      <td>2547363</td>\n",
       "      <td>755.693923</td>\n",
       "      <td>76.842711</td>\n",
       "      <td>80.744686</td>\n",
       "      <td>66.366592</td>\n",
       "      <td>80.220055</td>\n",
       "      <td>52.988247</td>\n",
       "    </tr>\n",
       "    <tr>\n",
       "      <th>12</th>\n",
       "      <td>Johnson High School</td>\n",
       "      <td>District</td>\n",
       "      <td>4761</td>\n",
       "      <td>3094650</td>\n",
       "      <td>395.801512</td>\n",
       "      <td>77.072464</td>\n",
       "      <td>80.966394</td>\n",
       "      <td>66.057551</td>\n",
       "      <td>81.222432</td>\n",
       "      <td>53.539172</td>\n",
       "    </tr>\n",
       "    <tr>\n",
       "      <th>13</th>\n",
       "      <td>Ford High School</td>\n",
       "      <td>District</td>\n",
       "      <td>2739</td>\n",
       "      <td>1763916</td>\n",
       "      <td>394.799562</td>\n",
       "      <td>77.102592</td>\n",
       "      <td>80.746258</td>\n",
       "      <td>68.309602</td>\n",
       "      <td>79.299014</td>\n",
       "      <td>54.289887</td>\n",
       "    </tr>\n",
       "    <tr>\n",
       "      <th>14</th>\n",
       "      <td>Thomas High School</td>\n",
       "      <td>Charter</td>\n",
       "      <td>1635</td>\n",
       "      <td>1043130</td>\n",
       "      <td>1558.020183</td>\n",
       "      <td>83.418349</td>\n",
       "      <td>83.848930</td>\n",
       "      <td>93.272171</td>\n",
       "      <td>97.308869</td>\n",
       "      <td>90.948012</td>\n",
       "    </tr>\n",
       "  </tbody>\n",
       "</table>\n",
       "</div>"
      ],
      "text/plain": [
       "              school_name school_types  Total Students  Total School Budget  \\\n",
       "0       Huang High School     District            2917              1910635   \n",
       "1    Figueroa High School     District            2949              1884411   \n",
       "2     Shelton High School      Charter            1761              1056600   \n",
       "3   Hernandez High School     District            4635              3022020   \n",
       "4     Griffin High School      Charter            1468               917500   \n",
       "5      Wilson High School      Charter            2283              1319574   \n",
       "6     Cabrera High School      Charter            1858              1081356   \n",
       "7      Bailey High School     District            4976              3124928   \n",
       "8      Holden High School      Charter             427               248087   \n",
       "9        Pena High School      Charter             962               585858   \n",
       "10     Wright High School      Charter            1800              1049400   \n",
       "11  Rodriguez High School     District            3999              2547363   \n",
       "12    Johnson High School     District            4761              3094650   \n",
       "13       Ford High School     District            2739              1763916   \n",
       "14     Thomas High School      Charter            1635              1043130   \n",
       "\n",
       "    Per School Capita  Average Math Scores  Average Reading Scores  \\\n",
       "0          452.373672            76.629414               81.182722   \n",
       "1          311.122414            76.711767               81.158020   \n",
       "2          595.911414            83.359455               83.725724   \n",
       "3          227.961165            77.289752               80.934412   \n",
       "4         2108.072207            83.351499               83.816757   \n",
       "5         1368.781428            83.274201               83.989488   \n",
       "6          133.523681            83.061895               83.975780   \n",
       "7          383.970056            77.048432               81.033963   \n",
       "8         2442.927400            83.803279               83.814988   \n",
       "9         1833.592516            83.839917               84.044699   \n",
       "10         325.476667            83.682222               83.955000   \n",
       "11         755.693923            76.842711               80.744686   \n",
       "12         395.801512            77.072464               80.966394   \n",
       "13         394.799562            77.102592               80.746258   \n",
       "14        1558.020183            83.418349               83.848930   \n",
       "\n",
       "    Percentage Passing Math  Percentage Passing Reading  Overall Passing Rate  \n",
       "0                 65.683922                   81.316421             53.513884  \n",
       "1                 65.988471                   80.739234             53.204476  \n",
       "2                 93.867121                   95.854628             89.892107  \n",
       "3                 66.752967                   80.862999             53.527508  \n",
       "4                 93.392371                   97.138965             90.599455  \n",
       "5                 93.867718                   96.539641             90.582567  \n",
       "6                 94.133477                   97.039828             91.334769  \n",
       "7                 66.680064                   81.933280             54.642283  \n",
       "8                 92.505855                   96.252927             89.227166  \n",
       "9                 94.594595                   95.945946             90.540541  \n",
       "10                93.333333                   96.611111             90.333333  \n",
       "11                66.366592                   80.220055             52.988247  \n",
       "12                66.057551                   81.222432             53.539172  \n",
       "13                68.309602                   79.299014             54.289887  \n",
       "14                93.272171                   97.308869             90.948012  "
      ]
     },
     "execution_count": 1238,
     "metadata": {},
     "output_type": "execute_result"
    }
   ],
   "source": [
    "# Create a DataFrame called `per_school_summary` with columns for the calculations above\n",
    "per_school_summary = pd.merge(school_types,per_school_counts, on=\"school_name\")\n",
    "per_school_summary = pd.merge(per_school_summary, per_school_budget, on=\"school_name\")\n",
    "per_school_summary = pd.merge(per_school_summary, per_school_capita, on=\"school_name\")\n",
    "per_school_summary = pd.merge(per_school_summary, per_school_math, on=\"school_name\")\n",
    "per_school_summary = pd.merge(per_school_summary, per_school_reading, on=\"school_name\")\n",
    "per_school_summary = pd.merge(per_school_summary, school_students_passing_math, on=\"school_name\")\n",
    "per_school_summary = pd.merge(per_school_summary, school_students_passing_reading, on=\"school_name\")\n",
    "per_school_summary = pd.merge(per_school_summary, overall_df, on=\"school_name\")\n",
    "per_school_summary"
   ]
  },
  {
   "cell_type": "code",
   "execution_count": null,
   "id": "e1e97e5c-530d-4c0b-88cf-70ae6e98e7e7",
   "metadata": {},
   "outputs": [],
   "source": []
  },
  {
   "cell_type": "code",
   "execution_count": 1237,
   "id": "c447eda0-359e-44a0-a6ba-80c1af475524",
   "metadata": {},
   "outputs": [
    {
     "ename": "KeyError",
     "evalue": "'Per Student Budget'",
     "output_type": "error",
     "traceback": [
      "\u001b[0;31m---------------------------------------------------------------------------\u001b[0m",
      "\u001b[0;31mKeyError\u001b[0m                                  Traceback (most recent call last)",
      "File \u001b[0;32m/opt/anaconda3/lib/python3.11/site-packages/pandas/core/indexes/base.py:3791\u001b[0m, in \u001b[0;36mIndex.get_loc\u001b[0;34m(self, key)\u001b[0m\n\u001b[1;32m   3790\u001b[0m \u001b[38;5;28;01mtry\u001b[39;00m:\n\u001b[0;32m-> 3791\u001b[0m     \u001b[38;5;28;01mreturn\u001b[39;00m \u001b[38;5;28mself\u001b[39m\u001b[38;5;241m.\u001b[39m_engine\u001b[38;5;241m.\u001b[39mget_loc(casted_key)\n\u001b[1;32m   3792\u001b[0m \u001b[38;5;28;01mexcept\u001b[39;00m \u001b[38;5;167;01mKeyError\u001b[39;00m \u001b[38;5;28;01mas\u001b[39;00m err:\n",
      "File \u001b[0;32mindex.pyx:152\u001b[0m, in \u001b[0;36mpandas._libs.index.IndexEngine.get_loc\u001b[0;34m()\u001b[0m\n",
      "File \u001b[0;32mindex.pyx:181\u001b[0m, in \u001b[0;36mpandas._libs.index.IndexEngine.get_loc\u001b[0;34m()\u001b[0m\n",
      "File \u001b[0;32mpandas/_libs/hashtable_class_helper.pxi:7080\u001b[0m, in \u001b[0;36mpandas._libs.hashtable.PyObjectHashTable.get_item\u001b[0;34m()\u001b[0m\n",
      "File \u001b[0;32mpandas/_libs/hashtable_class_helper.pxi:7088\u001b[0m, in \u001b[0;36mpandas._libs.hashtable.PyObjectHashTable.get_item\u001b[0;34m()\u001b[0m\n",
      "\u001b[0;31mKeyError\u001b[0m: 'Per Student Budget'",
      "\nThe above exception was the direct cause of the following exception:\n",
      "\u001b[0;31mKeyError\u001b[0m                                  Traceback (most recent call last)",
      "Cell \u001b[0;32mIn[1237], line 3\u001b[0m\n\u001b[1;32m      1\u001b[0m \u001b[38;5;66;03m# Formatting\u001b[39;00m\n\u001b[1;32m      2\u001b[0m per_school_summary[\u001b[38;5;124m\"\u001b[39m\u001b[38;5;124mTotal School Budget\u001b[39m\u001b[38;5;124m\"\u001b[39m] \u001b[38;5;241m=\u001b[39m per_school_summary[\u001b[38;5;124m\"\u001b[39m\u001b[38;5;124mTotal School Budget\u001b[39m\u001b[38;5;124m\"\u001b[39m]\u001b[38;5;241m.\u001b[39mmap(\u001b[38;5;124m\"\u001b[39m\u001b[38;5;124m$\u001b[39m\u001b[38;5;132;01m{:,.2f}\u001b[39;00m\u001b[38;5;124m\"\u001b[39m\u001b[38;5;241m.\u001b[39mformat)\n\u001b[0;32m----> 3\u001b[0m per_school_summary[\u001b[38;5;124m\"\u001b[39m\u001b[38;5;124mPer Student Budget\u001b[39m\u001b[38;5;124m\"\u001b[39m] \u001b[38;5;241m=\u001b[39m per_school_summary[\u001b[38;5;124m\"\u001b[39m\u001b[38;5;124mPer Student Budget\u001b[39m\u001b[38;5;124m\"\u001b[39m]\u001b[38;5;241m.\u001b[39mmap(\u001b[38;5;124m\"\u001b[39m\u001b[38;5;124m$\u001b[39m\u001b[38;5;132;01m{:,.2f}\u001b[39;00m\u001b[38;5;124m\"\u001b[39m\u001b[38;5;241m.\u001b[39mformat)\n\u001b[1;32m      5\u001b[0m \u001b[38;5;66;03m# Display the DataFrame\u001b[39;00m\n\u001b[1;32m      6\u001b[0m per_school_summary\n",
      "File \u001b[0;32m/opt/anaconda3/lib/python3.11/site-packages/pandas/core/frame.py:3893\u001b[0m, in \u001b[0;36mDataFrame.__getitem__\u001b[0;34m(self, key)\u001b[0m\n\u001b[1;32m   3891\u001b[0m \u001b[38;5;28;01mif\u001b[39;00m \u001b[38;5;28mself\u001b[39m\u001b[38;5;241m.\u001b[39mcolumns\u001b[38;5;241m.\u001b[39mnlevels \u001b[38;5;241m>\u001b[39m \u001b[38;5;241m1\u001b[39m:\n\u001b[1;32m   3892\u001b[0m     \u001b[38;5;28;01mreturn\u001b[39;00m \u001b[38;5;28mself\u001b[39m\u001b[38;5;241m.\u001b[39m_getitem_multilevel(key)\n\u001b[0;32m-> 3893\u001b[0m indexer \u001b[38;5;241m=\u001b[39m \u001b[38;5;28mself\u001b[39m\u001b[38;5;241m.\u001b[39mcolumns\u001b[38;5;241m.\u001b[39mget_loc(key)\n\u001b[1;32m   3894\u001b[0m \u001b[38;5;28;01mif\u001b[39;00m is_integer(indexer):\n\u001b[1;32m   3895\u001b[0m     indexer \u001b[38;5;241m=\u001b[39m [indexer]\n",
      "File \u001b[0;32m/opt/anaconda3/lib/python3.11/site-packages/pandas/core/indexes/base.py:3798\u001b[0m, in \u001b[0;36mIndex.get_loc\u001b[0;34m(self, key)\u001b[0m\n\u001b[1;32m   3793\u001b[0m     \u001b[38;5;28;01mif\u001b[39;00m \u001b[38;5;28misinstance\u001b[39m(casted_key, \u001b[38;5;28mslice\u001b[39m) \u001b[38;5;129;01mor\u001b[39;00m (\n\u001b[1;32m   3794\u001b[0m         \u001b[38;5;28misinstance\u001b[39m(casted_key, abc\u001b[38;5;241m.\u001b[39mIterable)\n\u001b[1;32m   3795\u001b[0m         \u001b[38;5;129;01mand\u001b[39;00m \u001b[38;5;28many\u001b[39m(\u001b[38;5;28misinstance\u001b[39m(x, \u001b[38;5;28mslice\u001b[39m) \u001b[38;5;28;01mfor\u001b[39;00m x \u001b[38;5;129;01min\u001b[39;00m casted_key)\n\u001b[1;32m   3796\u001b[0m     ):\n\u001b[1;32m   3797\u001b[0m         \u001b[38;5;28;01mraise\u001b[39;00m InvalidIndexError(key)\n\u001b[0;32m-> 3798\u001b[0m     \u001b[38;5;28;01mraise\u001b[39;00m \u001b[38;5;167;01mKeyError\u001b[39;00m(key) \u001b[38;5;28;01mfrom\u001b[39;00m \u001b[38;5;21;01merr\u001b[39;00m\n\u001b[1;32m   3799\u001b[0m \u001b[38;5;28;01mexcept\u001b[39;00m \u001b[38;5;167;01mTypeError\u001b[39;00m:\n\u001b[1;32m   3800\u001b[0m     \u001b[38;5;66;03m# If we have a listlike key, _check_indexing_error will raise\u001b[39;00m\n\u001b[1;32m   3801\u001b[0m     \u001b[38;5;66;03m#  InvalidIndexError. Otherwise we fall through and re-raise\u001b[39;00m\n\u001b[1;32m   3802\u001b[0m     \u001b[38;5;66;03m#  the TypeError.\u001b[39;00m\n\u001b[1;32m   3803\u001b[0m     \u001b[38;5;28mself\u001b[39m\u001b[38;5;241m.\u001b[39m_check_indexing_error(key)\n",
      "\u001b[0;31mKeyError\u001b[0m: 'Per Student Budget'"
     ]
    }
   ],
   "source": [
    "\n",
    "# Formatting\n",
    "per_school_summary[\"Total School Budget\"] = per_school_summary[\"Total School Budget\"].map(\"${:,.2f}\".format)\n",
    "per_school_summary[\"Per Student Budget\"] = per_school_summary[\"Per Student Budget\"].map(\"${:,.2f}\".format)\n",
    "\n",
    "# Display the DataFrame\n",
    "per_school_summary\n"
   ]
  },
  {
   "cell_type": "code",
   "execution_count": null,
   "id": "b83d760c-9828-437b-a8fa-93cad5d9bb08",
   "metadata": {},
   "outputs": [],
   "source": [
    "\n",
    "\n",
    "\n"
   ]
  },
  {
   "cell_type": "code",
   "execution_count": null,
   "id": "4c00957c-c494-4c18-b85c-4e21cbef6587",
   "metadata": {},
   "outputs": [],
   "source": []
  },
  {
   "cell_type": "code",
   "execution_count": null,
   "id": "4e45f2f3-29ca-45f4-b9c9-c6509a8a67df",
   "metadata": {},
   "outputs": [],
   "source": []
  }
 ],
 "metadata": {
  "kernelspec": {
   "display_name": "Python 3 (ipykernel)",
   "language": "python",
   "name": "python3"
  },
  "language_info": {
   "codemirror_mode": {
    "name": "ipython",
    "version": 3
   },
   "file_extension": ".py",
   "mimetype": "text/x-python",
   "name": "python",
   "nbconvert_exporter": "python",
   "pygments_lexer": "ipython3",
   "version": "3.11.7"
  }
 },
 "nbformat": 4,
 "nbformat_minor": 5
}
